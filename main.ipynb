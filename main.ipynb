{
 "cells": [
  {
   "cell_type": "markdown",
   "id": "089bd80a",
   "metadata": {},
   "source": [
    "# Quora Question Pairs (Complete Case Study)"
   ]
  },
  {
   "cell_type": "markdown",
   "id": "bc5a65a7",
   "metadata": {},
   "source": [
    "## Introduction \n",
    "**Quora** is a place to gain and share knowledge. It's a platform to ask questions and connect with people who contribute unique insights and quality answers. </br>\n",
    "At the time this competition first presented in Kaggle (5 years ago) the site was getting more than 100 million visitors every single month, now this number increased to 300 million visitors per month, anyone can ask question about the topic he or she want and get answers and Insights from others.\n"
   ]
  },
  {
   "cell_type": "markdown",
   "id": "31e7208e",
   "metadata": {},
   "source": [
    "## The Problem from Business Point of View\n",
    "Because the fact that those huge number of visitors can ask similar questions (which have slightly different words with the same meaning as example), Quora try to identify similar questions (very similar ones which we can say that they are duplicates).<br>\n",
    "After identifying them they can provide answers to newly asked questions instantly depending on its high similarity to a question already answered on Quora.<br>\n",
    "This process can improve a lot the User Experience (UX) in the application web or mobile because of three important ideas:<br>\n",
    "- it will provide answers instantly for the questioner.<br>\n",
    "- it also provides the best ones which may be upvoted by more people in the old question.<br>\n",
    "- it helps the user who want to search about a question to quickly find the right answer instead of being overwhelmed by a lot of questions.\n"
   ]
  },
  {
   "cell_type": "markdown",
   "id": "771b6398",
   "metadata": {},
   "source": [
    "## Real World Business Constraints\n",
    "1.\t**No latency concerns** as it is not required to do this process in milliseconds, it may take few seconds or minutes to get the best answer depending on accurate similarity prediction. \n",
    "2.\t**The cost of mis-classification can be very high**, if someone asks a question and the system recommends answers based on similar question but in fact, they seem similar but they are not so you suggest wrong answers which will affect user experience badly.\n",
    "3.\tYou must **define a threshold** for the probability above which you can say they are duplicate.\n",
    "4.\t**Interpretability is partially important** to know what’s your classification depends on?\n"
   ]
  },
  {
   "cell_type": "markdown",
   "id": "7589233d",
   "metadata": {},
   "source": [
    "## Data \n",
    "-\tCSV file for training data: **train.csv**.\n",
    "-\tSize of the file: 60.4 MB.\n",
    "-   Every record contains 2 questions IDs and the actual text body for every question and finally the probability of being duplicate. \n",
    "-\tMore info about number of rows, features and sample will be explored below."
   ]
  },
  {
   "cell_type": "markdown",
   "id": "97238493",
   "metadata": {},
   "source": [
    "## The Problem from Machine Learning Point of View\n",
    "We can say that it’s a binary classification problem as we need to predict if they are duplicate or not. </br>\n",
    "Simply we need to solve this function f(q1,q2) = {0,1}\n",
    "Evaluation Metrics: \n",
    "-\t**Log-Loss metric** as Quora said in the Kaggle page and its obvious as it’s a probability.\n",
    "-\t**Binary Confusion Matrix** to look for the cost of misclassification as we go on and also the interpretability.\n"
   ]
  },
  {
   "cell_type": "code",
   "execution_count": null,
   "id": "a3f07674",
   "metadata": {},
   "outputs": [],
   "source": []
  }
 ],
 "metadata": {
  "kernelspec": {
   "display_name": "Python 3 (ipykernel)",
   "language": "python",
   "name": "python3"
  },
  "language_info": {
   "codemirror_mode": {
    "name": "ipython",
    "version": 3
   },
   "file_extension": ".py",
   "mimetype": "text/x-python",
   "name": "python",
   "nbconvert_exporter": "python",
   "pygments_lexer": "ipython3",
   "version": "3.9.7"
  }
 },
 "nbformat": 4,
 "nbformat_minor": 5
}
