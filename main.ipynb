{
 "cells": [
  {
   "cell_type": "markdown",
   "metadata": {},
   "source": [
    "# Quora Question Pairs (Complete Case Study)\n",
    "Eng: **Asem Saafan** - https://www.linkedin.com/in/asemsafan/"
   ]
  },
  {
   "cell_type": "markdown",
   "metadata": {},
   "source": [
    "## Introduction \n",
    "**Quora** is a place to gain and share knowledge. It's a platform to ask questions and connect with people who contribute unique insights and quality answers. </br>\n",
    "At the time this competition first presented in Kaggle (5 years ago) the site was getting more than 100 million visitors every single month, now this number increased to 300 million visitors per month, anyone can ask question about the topic he or she want and get answers and Insights from others.\n"
   ]
  },
  {
   "cell_type": "markdown",
   "metadata": {},
   "source": [
    "## The Problem from Business Point of View\n",
    "Because the fact that those huge number of visitors can ask similar questions (which have slightly different words with the same meaning as example), Quora try to identify similar questions (very similar ones which we can say that they are duplicates).<br>\n",
    "After identifying them they can provide answers to newly asked questions instantly depending on its high similarity to a question already answered on Quora.<br>\n",
    "This process can improve a lot the User Experience (UX) in the application web or mobile because of three important ideas:<br>\n",
    "- it will provide answers instantly for the questioner.<br>\n",
    "- it also provides the best ones which may be upvoted by more people in the old question.<br>\n",
    "- it helps the user who want to search about a question to quickly find the right answer instead of being overwhelmed by a lot of questions.\n"
   ]
  },
  {
   "cell_type": "markdown",
   "metadata": {},
   "source": [
    "## Real World Business Constraints\n",
    "1.\t**No latency concerns** as it is not required to do this process in milliseconds, it may take few seconds or minutes to get the best answer depending on accurate similarity prediction. \n",
    "2.\t**The cost of mis-classification can be very high**, if someone asks a question and the system recommends answers based on similar question but in fact, they seem similar but they are not so you suggest wrong answers which will affect user experience badly.\n",
    "3.\tYou must **define a threshold** for the probability above which you can say they are duplicate.\n",
    "4.\t**Interpretability is partially important** to know what’s your classification depends on?\n"
   ]
  },
  {
   "cell_type": "markdown",
   "metadata": {},
   "source": [
    "## Data \n",
    "-\tCSV file for training data: **train.csv**.\n",
    "-\tSize of the file: 60.4 MB.\n",
    "-   Every record contains 2 questions IDs and the actual text body for every question and finally the probability of being duplicate. \n",
    "-\tMore info about number of rows, features and sample will be explored below."
   ]
  },
  {
   "cell_type": "markdown",
   "metadata": {},
   "source": [
    "## The Problem from Machine Learning Point of View\n",
    "We can say that it’s a binary classification problem as we need to predict if they are duplicate or not. </br>\n",
    "Simply we need to solve this function f(q1,q2) = {0,1}\n",
    "Evaluation Metrics: \n",
    "-\t**Log-Loss metric** as Quora said in the Kaggle page and its obvious as it’s a probability not only looking for the final output prediction (Similar or not).\n",
    "-\t**Binary Confusion Matrix** to look for the cost of misclassification as we go on and also the interpretability.\n"
   ]
  },
  {
   "cell_type": "markdown",
   "metadata": {},
   "source": [
    "## Exploratory Data Analysis \n",
    "Now let’s more about our data."
   ]
  },
  {
   "cell_type": "markdown",
   "metadata": {},
   "source": [
    "#### Importing required libraries"
   ]
  },
  {
   "cell_type": "code",
   "execution_count": 1,
   "metadata": {},
   "outputs": [],
   "source": [
    "import numpy as np\n",
    "import pandas as pd\n",
    "import matplotlib.pyplot as plt\n",
    "%matplotlib inline \n",
    "import seaborn as sns\n",
    "\n",
    "# remove warning\n",
    "import warnings\n",
    "warnings.filterwarnings('ignore')"
   ]
  },
  {
   "cell_type": "markdown",
   "metadata": {},
   "source": [
    "#### Reading data and basic stats"
   ]
  },
  {
   "cell_type": "code",
   "execution_count": 2,
   "metadata": {},
   "outputs": [
    {
     "data": {
      "text/plain": [
       "(404290, 6)"
      ]
     },
     "execution_count": 2,
     "metadata": {},
     "output_type": "execute_result"
    }
   ],
   "source": [
    "# importing the data (one csv file)\n",
    "df = pd.read_csv (\"train.csv\")\n",
    "# printing the shape to knwo how many columns (features) and rows (records)\n",
    "df.shape"
   ]
  },
  {
   "cell_type": "code",
   "execution_count": 3,
   "metadata": {},
   "outputs": [
    {
     "data": {
      "text/html": [
       "<div>\n",
       "<style scoped>\n",
       "    .dataframe tbody tr th:only-of-type {\n",
       "        vertical-align: middle;\n",
       "    }\n",
       "\n",
       "    .dataframe tbody tr th {\n",
       "        vertical-align: top;\n",
       "    }\n",
       "\n",
       "    .dataframe thead th {\n",
       "        text-align: right;\n",
       "    }\n",
       "</style>\n",
       "<table border=\"1\" class=\"dataframe\">\n",
       "  <thead>\n",
       "    <tr style=\"text-align: right;\">\n",
       "      <th></th>\n",
       "      <th>id</th>\n",
       "      <th>qid1</th>\n",
       "      <th>qid2</th>\n",
       "      <th>question1</th>\n",
       "      <th>question2</th>\n",
       "      <th>is_duplicate</th>\n",
       "    </tr>\n",
       "  </thead>\n",
       "  <tbody>\n",
       "    <tr>\n",
       "      <th>0</th>\n",
       "      <td>0</td>\n",
       "      <td>1</td>\n",
       "      <td>2</td>\n",
       "      <td>What is the step by step guide to invest in sh...</td>\n",
       "      <td>What is the step by step guide to invest in sh...</td>\n",
       "      <td>0</td>\n",
       "    </tr>\n",
       "    <tr>\n",
       "      <th>1</th>\n",
       "      <td>1</td>\n",
       "      <td>3</td>\n",
       "      <td>4</td>\n",
       "      <td>What is the story of Kohinoor (Koh-i-Noor) Dia...</td>\n",
       "      <td>What would happen if the Indian government sto...</td>\n",
       "      <td>0</td>\n",
       "    </tr>\n",
       "    <tr>\n",
       "      <th>2</th>\n",
       "      <td>2</td>\n",
       "      <td>5</td>\n",
       "      <td>6</td>\n",
       "      <td>How can I increase the speed of my internet co...</td>\n",
       "      <td>How can Internet speed be increased by hacking...</td>\n",
       "      <td>0</td>\n",
       "    </tr>\n",
       "    <tr>\n",
       "      <th>3</th>\n",
       "      <td>3</td>\n",
       "      <td>7</td>\n",
       "      <td>8</td>\n",
       "      <td>Why am I mentally very lonely? How can I solve...</td>\n",
       "      <td>Find the remainder when [math]23^{24}[/math] i...</td>\n",
       "      <td>0</td>\n",
       "    </tr>\n",
       "    <tr>\n",
       "      <th>4</th>\n",
       "      <td>4</td>\n",
       "      <td>9</td>\n",
       "      <td>10</td>\n",
       "      <td>Which one dissolve in water quikly sugar, salt...</td>\n",
       "      <td>Which fish would survive in salt water?</td>\n",
       "      <td>0</td>\n",
       "    </tr>\n",
       "  </tbody>\n",
       "</table>\n",
       "</div>"
      ],
      "text/plain": [
       "   id  qid1  qid2                                          question1  \\\n",
       "0   0     1     2  What is the step by step guide to invest in sh...   \n",
       "1   1     3     4  What is the story of Kohinoor (Koh-i-Noor) Dia...   \n",
       "2   2     5     6  How can I increase the speed of my internet co...   \n",
       "3   3     7     8  Why am I mentally very lonely? How can I solve...   \n",
       "4   4     9    10  Which one dissolve in water quikly sugar, salt...   \n",
       "\n",
       "                                           question2  is_duplicate  \n",
       "0  What is the step by step guide to invest in sh...             0  \n",
       "1  What would happen if the Indian government sto...             0  \n",
       "2  How can Internet speed be increased by hacking...             0  \n",
       "3  Find the remainder when [math]23^{24}[/math] i...             0  \n",
       "4            Which fish would survive in salt water?             0  "
      ]
     },
     "execution_count": 3,
     "metadata": {},
     "output_type": "execute_result"
    }
   ],
   "source": [
    "# take a look at the head to see data sample \n",
    "df.head ()"
   ]
  },
  {
   "cell_type": "code",
   "execution_count": 4,
   "metadata": {},
   "outputs": [
    {
     "name": "stdout",
     "output_type": "stream",
     "text": [
      "<class 'pandas.core.frame.DataFrame'>\n",
      "RangeIndex: 404290 entries, 0 to 404289\n",
      "Data columns (total 6 columns):\n",
      " #   Column        Non-Null Count   Dtype \n",
      "---  ------        --------------   ----- \n",
      " 0   id            404290 non-null  int64 \n",
      " 1   qid1          404290 non-null  int64 \n",
      " 2   qid2          404290 non-null  int64 \n",
      " 3   question1     404289 non-null  object\n",
      " 4   question2     404288 non-null  object\n",
      " 5   is_duplicate  404290 non-null  int64 \n",
      "dtypes: int64(4), object(2)\n",
      "memory usage: 18.5+ MB\n"
     ]
    }
   ],
   "source": [
    "# more info about the fields to make a proper description of the data\n",
    "# using info() function not describe() because it don't have numerical fields\n",
    "# and also to find the number of non-null fields\n",
    "df.info ()"
   ]
  },
  {
   "cell_type": "markdown",
   "metadata": {},
   "source": [
    "#### Our data consists of 404290 rows and 6 columns. </br>\n",
    "##### The 6 basic columns: \n",
    "- id: unique id for the record or the row.\n",
    "- qid1 and qid2: unique identifier for each question we have in the record.\n",
    "- question1 and question2: the actual text content of the two questions.\n",
    "- Is_duplicate: this will be the label we are trying to learn from and predict in the final model which will say if the two question is very similar to be duplicates or not. \n",
    "</br></br>\n",
    "##### We have only 3 null fields in the data which exists as 3 missing questions.\n",
    "*\tThis percentage which is 3/404290 is very awesome so we can remove or we can just keep them as an empty string ' '.\n"
   ]
  },
  {
   "cell_type": "markdown",
   "metadata": {},
   "source": [
    "#### Distributions of the Data"
   ]
  },
  {
   "cell_type": "code",
   "execution_count": 5,
   "metadata": {},
   "outputs": [
    {
     "data": {
      "text/plain": [
       "0    255027\n",
       "1    149263\n",
       "Name: is_duplicate, dtype: int64"
      ]
     },
     "execution_count": 5,
     "metadata": {},
     "output_type": "execute_result"
    }
   ],
   "source": [
    "df['is_duplicate'].value_counts()"
   ]
  },
  {
   "cell_type": "code",
   "execution_count": 6,
   "metadata": {},
   "outputs": [],
   "source": [
    "number_of_non_similar = df['is_duplicate'].value_counts()[0]\n",
    "number_of_similar = df['is_duplicate'].value_counts()[1]"
   ]
  },
  {
   "cell_type": "code",
   "execution_count": 7,
   "metadata": {},
   "outputs": [
    {
     "data": {
      "text/plain": [
       "<matplotlib.axes._subplots.AxesSubplot at 0x228a6a424c0>"
      ]
     },
     "execution_count": 7,
     "metadata": {},
     "output_type": "execute_result"
    },
    {
     "data": {
      "image/png": "[encoded data removed]",
      "text/plain": [
       "<Figure size 432x288 with 1 Axes>"
      ]
     },
     "metadata": {
      "needs_background": "light"
     },
     "output_type": "display_data"
    }
   ],
   "source": [
    "df['is_duplicate'].value_counts().plot(kind='bar')"
   ]
  },
  {
   "cell_type": "code",
   "execution_count": 8,
   "metadata": {},
   "outputs": [
    {
     "name": "stdout",
     "output_type": "stream",
     "text": [
      "Total Number of Question Pairs is 404290\n"
     ]
    }
   ],
   "source": [
    "print(f'Total Number of Question Pairs is {len(df)}')"
   ]
  },
  {
   "cell_type": "code",
   "execution_count": 9,
   "metadata": {},
   "outputs": [
    {
     "name": "stdout",
     "output_type": "stream",
     "text": [
      "Total Number of Similar Pairs is 149263, about 36.92%\n",
      "Total Number of Non-Similar Pairs is 255027, about 63.08%\n"
     ]
    }
   ],
   "source": [
    "print(f'Total Number of Similar Pairs is {number_of_similar}, about {number_of_similar/len(df)*100:1.2f}%')\n",
    "print(f'Total Number of Non-Similar Pairs is {number_of_non_similar}, about {number_of_non_similar/len(df)*100:1.2f}%')"
   ]
  },
  {
   "cell_type": "markdown",
   "metadata": {},
   "source": [
    "#### Number of Unique Questions"
   ]
  },
  {
   "cell_type": "code",
   "execution_count": 10,
   "metadata": {},
   "outputs": [
    {
     "name": "stdout",
     "output_type": "stream",
     "text": [
      "Total number of  Unique Questions are: 537933\n",
      "\n",
      "Number of unique questions that appear more than one time: 111780 about(20.78%)\n",
      "\n",
      "Top 5 question IDs repeated:\n",
      "2559     157\n",
      "30782    120\n",
      "4044     111\n",
      "2561      88\n",
      "14376     79\n",
      "dtype: int64\n",
      "\n"
     ]
    }
   ],
   "source": [
    "# combine all ids into one Series to dicover more about it \n",
    "all_ids = pd.Series (df['qid1'].tolist() + df['qid2'].tolist())\n",
    "# get the unique IDs of questions\n",
    "unique_ids = len(all_ids.unique())\n",
    "# print the total number of unique questions \n",
    "print (f'Total number of  Unique Questions are: {unique_ids}\\n')\n",
    "# we now knew that we have many question that are repeated, lets count them\n",
    "number_of_repeated_ids = np.sum (all_ids.value_counts() > 1)\n",
    "# print number of repeated questions \n",
    "print (f'Number of unique questions that appear more than one time: {number_of_repeated_ids} about({number_of_repeated_ids/unique_ids*100:1.2f}%)\\n')\n",
    "print (f'Top 5 question IDs repeated:\\n{all_ids.value_counts().nlargest(5)}\\n') \n"
   ]
  },
  {
   "cell_type": "code",
   "execution_count": 11,
   "metadata": {},
   "outputs": [
    {
     "data": {
      "image/png": "[encoded data removed]",
      "text/plain": [
       "<Figure size 720x432 with 1 Axes>"
      ]
     },
     "metadata": {
      "needs_background": "light"
     },
     "output_type": "display_data"
    }
   ],
   "source": [
    "x = [\"Unique Questions\" , \"Repeated Questions\"]\n",
    "y =  [unique_ids , number_of_repeated_ids]\n",
    "\n",
    "plt.figure(figsize=(10, 6))\n",
    "plt.title (\"Plot representing unique and repeated questions  \")\n",
    "sns.barplot(x,y)\n",
    "plt.show()"
   ]
  },
  {
   "cell_type": "markdown",
   "metadata": {},
   "source": [
    "#### Checking for Duplicates"
   ]
  },
  {
   "cell_type": "code",
   "execution_count": 12,
   "metadata": {
    "scrolled": true
   },
   "outputs": [
    {
     "name": "stdout",
     "output_type": "stream",
     "text": [
      "Number of duplicate questions: 0\n"
     ]
    }
   ],
   "source": [
    "#checking whether there are any repeated pair of questions\n",
    "pair_duplicates = df[['qid1','qid2','is_duplicate']].groupby(['qid1','qid2']).count()\n",
    "difference_between_both = df.shape[0] - pair_duplicates.shape[0]\n",
    "\n",
    "print(f\"Number of duplicate questions: {difference_between_both}\")"
   ]
  },
  {
   "cell_type": "markdown",
   "metadata": {},
   "source": [
    "#### Number of occurrences of each question \n",
    "Check the frequency of each word and take into consideration that y-axis has a **logarithmic scale** so there's more than 300k questions appeared one time only and 60k question appeared two times, you may feel that they are close this because of the scale."
   ]
  },
  {
   "cell_type": "code",
   "execution_count": 13,
   "metadata": {},
   "outputs": [
    {
     "name": "stdout",
     "output_type": "stream",
     "text": [
      "Maximum number of times a single question is repeated: 157\n",
      "\n"
     ]
    },
    {
     "data": {
      "image/png": "[encoded data removed]",
      "text/plain": [
       "<Figure size 1440x720 with 1 Axes>"
      ]
     },
     "metadata": {
      "needs_background": "light"
     },
     "output_type": "display_data"
    }
   ],
   "source": [
    "plt.figure(figsize=(20, 10))\n",
    "\n",
    "plt.hist(all_ids.value_counts(), bins=160)\n",
    "\n",
    "plt.yscale('log', nonposy='clip')\n",
    "\n",
    "plt.title('Log-Histogram of question appearance counts')\n",
    "\n",
    "plt.xlabel('Number of occurences of question')\n",
    "\n",
    "plt.ylabel('Number of questions')\n",
    "\n",
    "print ('Maximum number of times a single question is repeated: {}\\n'.format(max(all_ids.value_counts()))) "
   ]
  },
  {
   "cell_type": "markdown",
   "metadata": {},
   "source": [
    "#### Checking and dealing with Null Values"
   ]
  },
  {
   "cell_type": "code",
   "execution_count": 14,
   "metadata": {},
   "outputs": [
    {
     "data": {
      "text/html": [
       "<div>\n",
       "<style scoped>\n",
       "    .dataframe tbody tr th:only-of-type {\n",
       "        vertical-align: middle;\n",
       "    }\n",
       "\n",
       "    .dataframe tbody tr th {\n",
       "        vertical-align: top;\n",
       "    }\n",
       "\n",
       "    .dataframe thead th {\n",
       "        text-align: right;\n",
       "    }\n",
       "</style>\n",
       "<table border=\"1\" class=\"dataframe\">\n",
       "  <thead>\n",
       "    <tr style=\"text-align: right;\">\n",
       "      <th></th>\n",
       "      <th>id</th>\n",
       "      <th>qid1</th>\n",
       "      <th>qid2</th>\n",
       "      <th>question1</th>\n",
       "      <th>question2</th>\n",
       "      <th>is_duplicate</th>\n",
       "    </tr>\n",
       "  </thead>\n",
       "  <tbody>\n",
       "    <tr>\n",
       "      <th>105780</th>\n",
       "      <td>105780</td>\n",
       "      <td>174363</td>\n",
       "      <td>174364</td>\n",
       "      <td>How can I develop android app?</td>\n",
       "      <td>NaN</td>\n",
       "      <td>0</td>\n",
       "    </tr>\n",
       "    <tr>\n",
       "      <th>201841</th>\n",
       "      <td>201841</td>\n",
       "      <td>303951</td>\n",
       "      <td>174364</td>\n",
       "      <td>How can I create an Android app?</td>\n",
       "      <td>NaN</td>\n",
       "      <td>0</td>\n",
       "    </tr>\n",
       "    <tr>\n",
       "      <th>363362</th>\n",
       "      <td>363362</td>\n",
       "      <td>493340</td>\n",
       "      <td>493341</td>\n",
       "      <td>NaN</td>\n",
       "      <td>My Chinese name is Haichao Yu. What English na...</td>\n",
       "      <td>0</td>\n",
       "    </tr>\n",
       "  </tbody>\n",
       "</table>\n",
       "</div>"
      ],
      "text/plain": [
       "            id    qid1    qid2                         question1  \\\n",
       "105780  105780  174363  174364    How can I develop android app?   \n",
       "201841  201841  303951  174364  How can I create an Android app?   \n",
       "363362  363362  493340  493341                               NaN   \n",
       "\n",
       "                                                question2  is_duplicate  \n",
       "105780                                                NaN             0  \n",
       "201841                                                NaN             0  \n",
       "363362  My Chinese name is Haichao Yu. What English na...             0  "
      ]
     },
     "execution_count": 14,
     "metadata": {},
     "output_type": "execute_result"
    }
   ],
   "source": [
    "non_rows = df[df.isnull().any(1)]\n",
    "non_rows"
   ]
  },
  {
   "cell_type": "markdown",
   "metadata": {},
   "source": [
    "Convert this **NaN** values with an empty string **' '**."
   ]
  },
  {
   "cell_type": "code",
   "execution_count": 15,
   "metadata": {
    "scrolled": true
   },
   "outputs": [
    {
     "data": {
      "text/html": [
       "<div>\n",
       "<style scoped>\n",
       "    .dataframe tbody tr th:only-of-type {\n",
       "        vertical-align: middle;\n",
       "    }\n",
       "\n",
       "    .dataframe tbody tr th {\n",
       "        vertical-align: top;\n",
       "    }\n",
       "\n",
       "    .dataframe thead th {\n",
       "        text-align: right;\n",
       "    }\n",
       "</style>\n",
       "<table border=\"1\" class=\"dataframe\">\n",
       "  <thead>\n",
       "    <tr style=\"text-align: right;\">\n",
       "      <th></th>\n",
       "      <th>id</th>\n",
       "      <th>qid1</th>\n",
       "      <th>qid2</th>\n",
       "      <th>question1</th>\n",
       "      <th>question2</th>\n",
       "      <th>is_duplicate</th>\n",
       "    </tr>\n",
       "  </thead>\n",
       "  <tbody>\n",
       "  </tbody>\n",
       "</table>\n",
       "</div>"
      ],
      "text/plain": [
       "Empty DataFrame\n",
       "Columns: [id, qid1, qid2, question1, question2, is_duplicate]\n",
       "Index: []"
      ]
     },
     "execution_count": 15,
     "metadata": {},
     "output_type": "execute_result"
    }
   ],
   "source": [
    "df = df.fillna(' ')\n",
    "non_rows = df[df.isnull().any(1)]\n",
    "non_rows"
   ]
  },
  {
   "cell_type": "markdown",
   "metadata": {},
   "source": [
    "#### Top Frequent words in both classes"
   ]
  },
  {
   "cell_type": "code",
   "execution_count": 16,
   "metadata": {},
   "outputs": [],
   "source": [
    "# import necessary Functions\n",
    "from wordcloud import WordCloud, STOPWORDS"
   ]
  },
  {
   "cell_type": "code",
   "execution_count": 17,
   "metadata": {},
   "outputs": [],
   "source": [
    "duplicated_questions_df = df[df['is_duplicate'] == 1]\n",
    "non_duplicated_questions_df= df[df['is_duplicate'] == 0]"
   ]
  },
  {
   "cell_type": "code",
   "execution_count": 18,
   "metadata": {},
   "outputs": [],
   "source": [
    "# Converting both columns for questions to arrays and combine and flatten them using np.dstack\n",
    "# like {{1,2},{3,4}} to {1,2,3,4}\n",
    "duplicated_question_text = np.dstack([duplicated_questions_df[\"question1\"], duplicated_questions_df[\"question2\"]]).flatten()\n",
    "non_duplicated_question_text = np.dstack([non_duplicated_questions_df[\"question1\"], non_duplicated_questions_df[\"question2\"]]).flatten()\n",
    "\n",
    "# using stopwords from wordcloud\n",
    "# You can add or remove stop words to this list by stop_words.add(\" \") and stop_words.remove(\" \")\n",
    "stop_words = set(STOPWORDS)"
   ]
  },
  {
   "cell_type": "markdown",
   "metadata": {},
   "source": [
    "Let's create a function to generate and Plot WordCloud for Each Text"
   ]
  },
  {
   "cell_type": "code",
   "execution_count": 19,
   "metadata": {},
   "outputs": [],
   "source": [
    "def generate_word_cloud(text,stopwords,title):\n",
    "    \"\"\"\n",
    "    Function to Generate Word Cloud for String \n",
    "    To Use it just call it and pass (text_to_generate_wordcloud_for, stop_words ,Text for title)\n",
    "    \"\"\"\n",
    "    wc = WordCloud(background_color=\"white\", max_words=len(text), stopwords=stopwords)\n",
    "    wc.generate(np.array2string(text))\n",
    "    print (f\"Word Cloud for {title}\")\n",
    "    plt.imshow(wc, interpolation='bilinear')\n",
    "    plt.title(title)\n",
    "    plt.axis(\"off\")\n",
    "    plt.show()"
   ]
  },
  {
   "cell_type": "code",
   "execution_count": 20,
   "metadata": {},
   "outputs": [
    {
     "name": "stdout",
     "output_type": "stream",
     "text": [
      "Word Cloud for Duplicated Questions\n"
     ]
    },
    {
     "data": {
      "image/png": "[encoded data removed]",
      "text/plain": [
       "<Figure size 432x288 with 1 Axes>"
      ]
     },
     "metadata": {
      "needs_background": "light"
     },
     "output_type": "display_data"
    }
   ],
   "source": [
    "# Let's Generate WordCloud for Duplicated Questions\n",
    "generate_word_cloud(duplicated_question_text,stop_words,\"Duplicated Questions\")"
   ]
  },
  {
   "cell_type": "code",
   "execution_count": 21,
   "metadata": {},
   "outputs": [
    {
     "name": "stdout",
     "output_type": "stream",
     "text": [
      "Word Cloud for Non-Duplicated Questions\n"
     ]
    },
    {
     "data": {
      "image/png": "[encoded data removed]",
      "text/plain": [
       "<Figure size 432x288 with 1 Axes>"
      ]
     },
     "metadata": {
      "needs_background": "light"
     },
     "output_type": "display_data"
    }
   ],
   "source": [
    "generate_word_cloud(non_duplicated_question_text,stop_words,\"Non-Duplicated Questions\")"
   ]
  },
  {
   "cell_type": "markdown",
   "metadata": {},
   "source": [
    "## Feature Extraction\n",
    "In this case study we will try practice most of NLP feature extraction methods and if you are solving case study on **Kaggle**, read the discussion and you will find awesome instructions. <br>\n",
    "We will go through **3 Steps**:\n",
    "* Basic Feature Extraction (before cleaning)\n",
    "* Advanced Feature Ex (after cleaning - preprocessing stage)\n",
    "* Featurizing our text with TFIDF and Word2Vector"
   ]
  },
  {
   "cell_type": "markdown",
   "metadata": {},
   "source": [
    "* we will work on a **sample from the data** for faster processing and memory constraints\n",
    "* our sample will be **40,000 row**"
   ]
  },
  {
   "cell_type": "code",
   "execution_count": 22,
   "metadata": {},
   "outputs": [],
   "source": [
    "df_sample = df.sample(40000,random_state=42)"
   ]
  },
  {
   "cell_type": "code",
   "execution_count": 23,
   "metadata": {},
   "outputs": [
    {
     "name": "stdout",
     "output_type": "stream",
     "text": [
      "(40000, 6)\n"
     ]
    },
    {
     "data": {
      "text/html": [
       "<div>\n",
       "<style scoped>\n",
       "    .dataframe tbody tr th:only-of-type {\n",
       "        vertical-align: middle;\n",
       "    }\n",
       "\n",
       "    .dataframe tbody tr th {\n",
       "        vertical-align: top;\n",
       "    }\n",
       "\n",
       "    .dataframe thead th {\n",
       "        text-align: right;\n",
       "    }\n",
       "</style>\n",
       "<table border=\"1\" class=\"dataframe\">\n",
       "  <thead>\n",
       "    <tr style=\"text-align: right;\">\n",
       "      <th></th>\n",
       "      <th>id</th>\n",
       "      <th>qid1</th>\n",
       "      <th>qid2</th>\n",
       "      <th>question1</th>\n",
       "      <th>question2</th>\n",
       "      <th>is_duplicate</th>\n",
       "    </tr>\n",
       "  </thead>\n",
       "  <tbody>\n",
       "    <tr>\n",
       "      <th>8067</th>\n",
       "      <td>8067</td>\n",
       "      <td>15738</td>\n",
       "      <td>15739</td>\n",
       "      <td>How do I play Pokémon GO in Korea?</td>\n",
       "      <td>How do I play Pokémon GO in China?</td>\n",
       "      <td>0</td>\n",
       "    </tr>\n",
       "    <tr>\n",
       "      <th>368101</th>\n",
       "      <td>368101</td>\n",
       "      <td>12736</td>\n",
       "      <td>104117</td>\n",
       "      <td>What are some of the best side dishes for crab...</td>\n",
       "      <td>What are some good side dishes for buffalo chi...</td>\n",
       "      <td>0</td>\n",
       "    </tr>\n",
       "    <tr>\n",
       "      <th>70497</th>\n",
       "      <td>70497</td>\n",
       "      <td>121486</td>\n",
       "      <td>121487</td>\n",
       "      <td>Which is more advisable and better material fo...</td>\n",
       "      <td>What is the best server setup for buddypress?</td>\n",
       "      <td>0</td>\n",
       "    </tr>\n",
       "    <tr>\n",
       "      <th>226567</th>\n",
       "      <td>226567</td>\n",
       "      <td>254474</td>\n",
       "      <td>258192</td>\n",
       "      <td>How do I improve logical programming skills?</td>\n",
       "      <td>How can I improve my logical skills for progra...</td>\n",
       "      <td>1</td>\n",
       "    </tr>\n",
       "    <tr>\n",
       "      <th>73186</th>\n",
       "      <td>73186</td>\n",
       "      <td>48103</td>\n",
       "      <td>3062</td>\n",
       "      <td>How close we are to see 3rd world war?</td>\n",
       "      <td>How close is a World War III?</td>\n",
       "      <td>1</td>\n",
       "    </tr>\n",
       "  </tbody>\n",
       "</table>\n",
       "</div>"
      ],
      "text/plain": [
       "            id    qid1    qid2  \\\n",
       "8067      8067   15738   15739   \n",
       "368101  368101   12736  104117   \n",
       "70497    70497  121486  121487   \n",
       "226567  226567  254474  258192   \n",
       "73186    73186   48103    3062   \n",
       "\n",
       "                                                question1  \\\n",
       "8067                   How do I play Pokémon GO in Korea?   \n",
       "368101  What are some of the best side dishes for crab...   \n",
       "70497   Which is more advisable and better material fo...   \n",
       "226567       How do I improve logical programming skills?   \n",
       "73186              How close we are to see 3rd world war?   \n",
       "\n",
       "                                                question2  is_duplicate  \n",
       "8067                   How do I play Pokémon GO in China?             0  \n",
       "368101  What are some good side dishes for buffalo chi...             0  \n",
       "70497       What is the best server setup for buddypress?             0  \n",
       "226567  How can I improve my logical skills for progra...             1  \n",
       "73186                       How close is a World War III?             1  "
      ]
     },
     "execution_count": 23,
     "metadata": {},
     "output_type": "execute_result"
    }
   ],
   "source": [
    "print(df_sample.shape)\n",
    "df_sample.head()"
   ]
  },
  {
   "cell_type": "markdown",
   "metadata": {},
   "source": [
    "### Basic Feature Extraction"
   ]
  },
  {
   "cell_type": "markdown",
   "metadata": {},
   "source": [
    "In our basic featrure extraction part we will focus on very basic properties of the questions and before defining any variable we will define it with easy English definition in a comment."
   ]
  },
  {
   "cell_type": "code",
   "execution_count": 24,
   "metadata": {},
   "outputs": [],
   "source": [
    "# Functions we will use in get_basic_features function\n",
    "\n",
    "# Get common words between two questions\n",
    "def get_common_words(row):\n",
    "    w1 = set(map(lambda word: word.lower().strip(), row['question1'].split(\" \")))\n",
    "    w2 = set(map(lambda word: word.lower().strip(), row['question2'].split(\" \")))    \n",
    "    return 1.0 * len(w1 & w2)\n",
    "\n",
    "# Get Total words between two questions\n",
    "def get_total_words(row):\n",
    "    w1 = set(map(lambda word: word.lower().strip(), row['question1'].split(\" \")))\n",
    "    w2 = set(map(lambda word: word.lower().strip(), row['question2'].split(\" \")))    \n",
    "    return 1.0 * (len(w1) + len(w2))\n",
    "\n",
    "# Get common words share by deviding the above two methods\n",
    "def get_common_words_share(row):\n",
    "    w1 = set(map(lambda word: word.lower().strip(), row['question1'].split(\" \")))\n",
    "    w2 = set(map(lambda word: word.lower().strip(), row['question2'].split(\" \")))    \n",
    "    return 1.0 * len(w1 & w2)/(len(w1) + len(w2))"
   ]
  },
  {
   "cell_type": "markdown",
   "metadata": {},
   "source": [
    "Let's Create a function to create all basic features we will create in our data frame like:\n",
    "* **Frequency of both questions** using their IDs. (2 features)\n",
    "* **Length of both questions**.(2 features)\n",
    "* **Number of words** in both questions. (2 features)\n",
    "* **Common words** between two questions. (1 feature)\n",
    "* **Total words** in both questions. (1 feature)\n",
    "* **Common words share** in both questions. (1 feature)\n",
    "* **Sum of both question frequnces**. (1 feature)\n",
    "* **Absolute diffrence between both question frequnces**. (1 feature)"
   ]
  },
  {
   "cell_type": "code",
   "execution_count": 25,
   "metadata": {},
   "outputs": [],
   "source": [
    "def get_basic_features (df):\n",
    "    \"\"\"\n",
    "    Function Used to get all basic features from both questions in our DataFrame\n",
    "    like frequency, length, Number of words, Number of common words words\n",
    "    and total number of words in both questions.\n",
    "    \n",
    "    To use it just call it and pass your DataFrame as an Argument.\n",
    "    \"\"\"\n",
    "    print ('Creating basic features...')\n",
    "    # Get the frequency of question 1 from its ID\n",
    "    df['q1_id_frequency'] = df.groupby('qid1')['qid1'].transform('count')\n",
    "    # Get the frequency of question 2 from its ID\n",
    "    df['q2_id_frequency'] = df.groupby('qid2')['qid2'].transform('count')\n",
    "    \n",
    "    # Get the length of Question 1\n",
    "    df['q1_length'] = df['question1'].str.len()\n",
    "    # Get the length of Question 2\n",
    "    df['q2_length'] = df['question2'].str.len()\n",
    "    \n",
    "    # Get the number of words in question 1\n",
    "    df['q1_number_of_words'] = df['question1'].str.split().apply(len)\n",
    "    # Get the number of words in question 2\n",
    "    df['q2_number_of_words'] = df['question2'].str.split().apply(len)\n",
    "    \n",
    "    # Get common words between two questions\n",
    "    df['common_words'] = df.apply(get_common_words, axis=1)\n",
    "    # Get total words between two questions\n",
    "    df['total_words'] = df.apply(get_total_words, axis=1)\n",
    "    # Get common words share between two questions\n",
    "    df['common_words_share'] = df.apply(get_common_words_share, axis=1)\n",
    "\n",
    "    # Get the summation of both question frequences\n",
    "    df['freq_q1+q2'] = df['q1_id_frequency']+df['q2_id_frequency']\n",
    "    # Get the absolute difference between both question frequences\n",
    "    df['freq_q1-q2'] = abs(df['q1_id_frequency']-df['q2_id_frequency'])\n",
    "    \n",
    "    print ('Basic Features is created in your Data Frame \\n')\n",
    "    print (df.head(2))\n",
    "    \n",
    "    # Save your DF with basic features as df_basic_features.csv\n",
    "    df.to_csv('df_basic_features.csv', index=False)\n",
    "    return df"
   ]
  },
  {
   "cell_type": "code",
   "execution_count": 26,
   "metadata": {
    "scrolled": true
   },
   "outputs": [],
   "source": [
    "# df_with_basic = get_basic_features(df_sample)"
   ]
  },
  {
   "cell_type": "code",
   "execution_count": 27,
   "metadata": {
    "scrolled": false
   },
   "outputs": [],
   "source": [
    "# df_with_basic.columns"
   ]
  },
  {
   "cell_type": "markdown",
   "metadata": {},
   "source": [
    "We have now **exported the dataframe with basic features** if we need to start running from this point just run the next command"
   ]
  },
  {
   "cell_type": "code",
   "execution_count": 28,
   "metadata": {},
   "outputs": [
    {
     "data": {
      "text/html": [
       "<div>\n",
       "<style scoped>\n",
       "    .dataframe tbody tr th:only-of-type {\n",
       "        vertical-align: middle;\n",
       "    }\n",
       "\n",
       "    .dataframe tbody tr th {\n",
       "        vertical-align: top;\n",
       "    }\n",
       "\n",
       "    .dataframe thead th {\n",
       "        text-align: right;\n",
       "    }\n",
       "</style>\n",
       "<table border=\"1\" class=\"dataframe\">\n",
       "  <thead>\n",
       "    <tr style=\"text-align: right;\">\n",
       "      <th></th>\n",
       "      <th>id</th>\n",
       "      <th>qid1</th>\n",
       "      <th>qid2</th>\n",
       "      <th>question1</th>\n",
       "      <th>question2</th>\n",
       "      <th>is_duplicate</th>\n",
       "      <th>q1_id_frequency</th>\n",
       "      <th>q2_id_frequency</th>\n",
       "      <th>q1_length</th>\n",
       "      <th>q2_length</th>\n",
       "      <th>q1_number_of_words</th>\n",
       "      <th>q2_number_of_words</th>\n",
       "      <th>common_words</th>\n",
       "      <th>total_words</th>\n",
       "      <th>common_words_share</th>\n",
       "      <th>freq_q1+q2</th>\n",
       "      <th>freq_q1-q2</th>\n",
       "    </tr>\n",
       "  </thead>\n",
       "  <tbody>\n",
       "    <tr>\n",
       "      <th>0</th>\n",
       "      <td>8067</td>\n",
       "      <td>15738</td>\n",
       "      <td>15739</td>\n",
       "      <td>How do I play Pokémon GO in Korea?</td>\n",
       "      <td>How do I play Pokémon GO in China?</td>\n",
       "      <td>0</td>\n",
       "      <td>1</td>\n",
       "      <td>1</td>\n",
       "      <td>34</td>\n",
       "      <td>34</td>\n",
       "      <td>8</td>\n",
       "      <td>8</td>\n",
       "      <td>7.0</td>\n",
       "      <td>16.0</td>\n",
       "      <td>0.437500</td>\n",
       "      <td>2</td>\n",
       "      <td>0</td>\n",
       "    </tr>\n",
       "    <tr>\n",
       "      <th>1</th>\n",
       "      <td>368101</td>\n",
       "      <td>12736</td>\n",
       "      <td>104117</td>\n",
       "      <td>What are some of the best side dishes for crab...</td>\n",
       "      <td>What are some good side dishes for buffalo chi...</td>\n",
       "      <td>0</td>\n",
       "      <td>1</td>\n",
       "      <td>1</td>\n",
       "      <td>53</td>\n",
       "      <td>51</td>\n",
       "      <td>11</td>\n",
       "      <td>9</td>\n",
       "      <td>6.0</td>\n",
       "      <td>20.0</td>\n",
       "      <td>0.300000</td>\n",
       "      <td>2</td>\n",
       "      <td>0</td>\n",
       "    </tr>\n",
       "    <tr>\n",
       "      <th>2</th>\n",
       "      <td>70497</td>\n",
       "      <td>121486</td>\n",
       "      <td>121487</td>\n",
       "      <td>Which is more advisable and better material fo...</td>\n",
       "      <td>What is the best server setup for buddypress?</td>\n",
       "      <td>0</td>\n",
       "      <td>1</td>\n",
       "      <td>1</td>\n",
       "      <td>96</td>\n",
       "      <td>45</td>\n",
       "      <td>16</td>\n",
       "      <td>8</td>\n",
       "      <td>2.0</td>\n",
       "      <td>24.0</td>\n",
       "      <td>0.083333</td>\n",
       "      <td>2</td>\n",
       "      <td>0</td>\n",
       "    </tr>\n",
       "    <tr>\n",
       "      <th>3</th>\n",
       "      <td>226567</td>\n",
       "      <td>254474</td>\n",
       "      <td>258192</td>\n",
       "      <td>How do I improve logical programming skills?</td>\n",
       "      <td>How can I improve my logical skills for progra...</td>\n",
       "      <td>1</td>\n",
       "      <td>2</td>\n",
       "      <td>2</td>\n",
       "      <td>44</td>\n",
       "      <td>52</td>\n",
       "      <td>7</td>\n",
       "      <td>9</td>\n",
       "      <td>4.0</td>\n",
       "      <td>16.0</td>\n",
       "      <td>0.250000</td>\n",
       "      <td>4</td>\n",
       "      <td>0</td>\n",
       "    </tr>\n",
       "    <tr>\n",
       "      <th>4</th>\n",
       "      <td>73186</td>\n",
       "      <td>48103</td>\n",
       "      <td>3062</td>\n",
       "      <td>How close we are to see 3rd world war?</td>\n",
       "      <td>How close is a World War III?</td>\n",
       "      <td>1</td>\n",
       "      <td>1</td>\n",
       "      <td>4</td>\n",
       "      <td>38</td>\n",
       "      <td>29</td>\n",
       "      <td>9</td>\n",
       "      <td>7</td>\n",
       "      <td>3.0</td>\n",
       "      <td>16.0</td>\n",
       "      <td>0.187500</td>\n",
       "      <td>5</td>\n",
       "      <td>3</td>\n",
       "    </tr>\n",
       "  </tbody>\n",
       "</table>\n",
       "</div>"
      ],
      "text/plain": [
       "       id    qid1    qid2                                          question1  \\\n",
       "0    8067   15738   15739                 How do I play Pokémon GO in Korea?   \n",
       "1  368101   12736  104117  What are some of the best side dishes for crab...   \n",
       "2   70497  121486  121487  Which is more advisable and better material fo...   \n",
       "3  226567  254474  258192       How do I improve logical programming skills?   \n",
       "4   73186   48103    3062             How close we are to see 3rd world war?   \n",
       "\n",
       "                                           question2  is_duplicate  \\\n",
       "0                 How do I play Pokémon GO in China?             0   \n",
       "1  What are some good side dishes for buffalo chi...             0   \n",
       "2      What is the best server setup for buddypress?             0   \n",
       "3  How can I improve my logical skills for progra...             1   \n",
       "4                      How close is a World War III?             1   \n",
       "\n",
       "   q1_id_frequency  q2_id_frequency  q1_length  q2_length  q1_number_of_words  \\\n",
       "0                1                1         34         34                   8   \n",
       "1                1                1         53         51                  11   \n",
       "2                1                1         96         45                  16   \n",
       "3                2                2         44         52                   7   \n",
       "4                1                4         38         29                   9   \n",
       "\n",
       "   q2_number_of_words  common_words  total_words  common_words_share  \\\n",
       "0                   8           7.0         16.0            0.437500   \n",
       "1                   9           6.0         20.0            0.300000   \n",
       "2                   8           2.0         24.0            0.083333   \n",
       "3                   9           4.0         16.0            0.250000   \n",
       "4                   7           3.0         16.0            0.187500   \n",
       "\n",
       "   freq_q1+q2  freq_q1-q2  \n",
       "0           2           0  \n",
       "1           2           0  \n",
       "2           2           0  \n",
       "3           4           0  \n",
       "4           5           3  "
      ]
     },
     "execution_count": 28,
     "metadata": {},
     "output_type": "execute_result"
    }
   ],
   "source": [
    "df_sample_basic = pd.read_csv('df_basic_features.csv')\n",
    "df_sample_basic.head()"
   ]
  },
  {
   "cell_type": "markdown",
   "metadata": {},
   "source": [
    "### Preprocessing of Text\n",
    "Our preprocessing Stage contains of:\n",
    "* Removing HTML tags if found\n",
    "* Removing punctuations\n",
    "* Performing Stemming\n",
    "* Removing stop words\n",
    "* Expanding contractions"
   ]
  },
  {
   "cell_type": "code",
   "execution_count": 29,
   "metadata": {},
   "outputs": [],
   "source": [
    "# import needed libraries for preprocessing \n",
    "\n",
    "from nltk.stem import PorterStemmer # to return every word to its original state\n",
    "from bs4 import BeautifulSoup # to remove HTML tags if found\n",
    "import re # to compile, substitute, match and find Strings based on notation if needed"
   ]
  },
  {
   "cell_type": "code",
   "execution_count": 30,
   "metadata": {},
   "outputs": [],
   "source": [
    "def preprocess(text):\n",
    "    \"\"\"\n",
    "    A function to do our preprocess step from removing stop words and perform stemming, etc...\n",
    "    \"\"\"\n",
    "    \n",
    "    if len(text) == 0:\n",
    "        return text\n",
    "        \n",
    "    # Lower case your text\n",
    "    text = str(text).lower()\n",
    "    \n",
    "    # Create a dictionary for words to replace\n",
    "    words_to_replace = {\n",
    "        \",000,000\": \"m\",\n",
    "        \",000\": \"k\",\n",
    "        \"′\": \"'\",\n",
    "        \"’\": \"'\",\n",
    "        \"won't\": \"will not\",\n",
    "        \"cannot\": \"can not\",\n",
    "        \"can't\": \"can not\",\n",
    "        \"n't\": \" not\",\n",
    "        \"what's\": \"what is\",\n",
    "        \"it's\": \"it is\",\n",
    "        \"'ve\": \" have\",\n",
    "        \"i'm\": \"i am\",\n",
    "        \"'re\": \" are\",\n",
    "        \"he's\": \"he is\",\n",
    "        \"she's\": \"she is\",\n",
    "        \"'s\": \" own\",\n",
    "        \"%\": \" percent \",\n",
    "        \"₹\": \" rupee \",\n",
    "        \"$\": \" dollar \",\n",
    "        \"€\": \" euro \",\n",
    "        \"'ll\": \" will\"\n",
    "    }\n",
    "    \n",
    "    # Replace old words with consistent format\n",
    "    for old, new in words_to_replace.items():\n",
    "        text = text.replace(old, new)\n",
    "    \n",
    "    # Initializing Porter Stemmer\n",
    "    porter = PorterStemmer()\n",
    "    # a pattern to search for alpahnumeric values only\n",
    "    pattern = re.compile('\\W')\n",
    "    # \n",
    "    if isinstance(text, str):\n",
    "        # removing alphanumeric values - substitute with empty space\n",
    "        text = re.sub(pattern,' ',text)\n",
    "        # use the porter to stem our text\n",
    "        text = porter.stem(text)\n",
    "        # Initializing BeatifulSoup with our Text\n",
    "        beatiful_soup = BeautifulSoup(text)\n",
    "        # Get our text from beatiful soup and remove tags if found\n",
    "        text = beatiful_soup.get_text()\n",
    "    \n",
    "    # Finally return our text after preprocessing finished\n",
    "    return text"
   ]
  },
  {
   "cell_type": "markdown",
   "metadata": {},
   "source": [
    "Our **Preprocessing function** is ready to use when needed."
   ]
  },
  {
   "cell_type": "markdown",
   "metadata": {},
   "source": [
    "### Advanced Feature Extraction"
   ]
  },
  {
   "cell_type": "markdown",
   "metadata": {},
   "source": [
    "In this stage we will **extract advanced features** like:\n",
    "* Ratio of common word count to min and max lenghth of word count of Q1 and Q2. (**2** features)\n",
    "* Ratio of common stop word count to min and max lenghth of stop count of Q1 and Q2. (**2** features)\n",
    "* Ratio of common token count to min and max lenghth of word count of Q1 and Q2. (**2** features)\n",
    "* Check if First and last words of both questions is equal or not. (**2** features)\n",
    "* Absolute token difference and Average length of both Questions. (**2** features)\n",
    "* fuzz_ratio, fuzz_partial_ratio, token_sort_ratio, token_set_ratio. (**4** amazing features)\n"
   ]
  },
  {
   "cell_type": "markdown",
   "metadata": {},
   "source": [
    "Let's start by creating main and helper methods to use while getting our advanced features:"
   ]
  },
  {
   "cell_type": "code",
   "execution_count": 31,
   "metadata": {},
   "outputs": [],
   "source": [
    "# getting stopwords from nltk this time to use it and remove stop words from tokens\n",
    "from nltk.corpus import stopwords\n",
    "stop_words = stopwords.words('english')"
   ]
  },
  {
   "cell_type": "code",
   "execution_count": 32,
   "metadata": {},
   "outputs": [],
   "source": [
    "# defining helper method to take 2 questions and return list of features\n",
    "def generate_advanced_features_from_tokens (question1, question2):\n",
    "    \"\"\"\n",
    "    Function to Generate top 10 advanced features in the above list like:\n",
    "    * Ratio of common word count to min and max lenghth of word count of Q1 and Q2. (**2** features)\n",
    "    * Ratio of common stop word count to min and max lenghth of stop count of Q1 and Q2. (**2** features)\n",
    "    * Ratio of common token count to min and max lenghth of word count of Q1 and Q2. (**2** features)\n",
    "    * Check if First and last words of both questions is equal or not. (**2** features)\n",
    "    * Absolute token difference and Average length of both Questions. (**2** features)\n",
    "    \"\"\"\n",
    "    # Initialize a list to save advanced features\n",
    "    # Initialized with zeros to return if string is empty\n",
    "    advanced_features_list = [0.0]*10 \n",
    "    \n",
    "    # convert question string into tokens by just splitting them\n",
    "    question1_tokens = question1.split()\n",
    "    question2_tokens = question2.split()\n",
    "    \n",
    "    # check if the questions ins empty or not\n",
    "    if len(question1) == 0 or len(question2) == 0:\n",
    "        return advanced_features_list\n",
    "    \n",
    "    save_division = .001 # to prevent zero devision\n",
    "    \n",
    "    # Get the words (tokens - stopwords) in Questions\n",
    "    question1_words = set([word for word in question1_tokens if word not in stop_words])\n",
    "    question2_words = set([word for word in question2_tokens if word not in stop_words])\n",
    "    \n",
    "    #Get the stop words from tokens\n",
    "    question1_stop_words = set([word for word in question1_tokens if word in stop_words])\n",
    "    question2_stop_words = set([word for word in question2_tokens if word in stop_words])\n",
    "    \n",
    "    # Get the number of common Tokens from Question pair\n",
    "    common_token_count = len(set(question1_tokens).intersection(set(question2_tokens)))\n",
    "    # Get the number of common words from Question pair\n",
    "    common_word_count = len(question1_words.intersection(question2_words))\n",
    "    # Get the number of common stopwords from Question pair\n",
    "    common_stop_count = len(question1_stop_words.intersection(question2_stop_words))\n",
    "    \n",
    "    # Getting the first 6 features (Ratios)\n",
    "    advanced_features_list[0] = common_word_count / (min(len(question1_words), len(question2_words)) + save_division)\n",
    "    advanced_features_list[1] = common_word_count / (max(len(question1_words), len(question2_words)) + save_division)\n",
    "    advanced_features_list[2] = common_stop_count / (min(len(question1_stop_words), len(question2_stop_words)) + save_division)\n",
    "    advanced_features_list[3] = common_stop_count / (max(len(question1_stop_words), len(question2_stop_words)) + save_division)\n",
    "    advanced_features_list[4] = common_token_count / (min(len(question1_tokens), len(question2_tokens)) + save_division)\n",
    "    advanced_features_list[5] = common_token_count / (max(len(question1_tokens), len(question2_tokens)) + save_division)\n",
    "    \n",
    "    # Last word of both question is same or not\n",
    "    advanced_features_list[6] = int(question1_tokens[-1] == question2_tokens[-1])\n",
    "    \n",
    "    # First word of both question is same or not\n",
    "    advanced_features_list[7] = int(question1_tokens[0] == question2_tokens[0])\n",
    "    \n",
    "    advanced_features_list[8] = abs(len(question1_tokens) - len(question2_tokens))\n",
    "    \n",
    "    #Average Token Length of both Questions\n",
    "    advanced_features_list[9] = (len(question1_tokens) + len(question2_tokens))/2\n",
    "    \n",
    "    # Return 10 advanced features \n",
    "    return advanced_features_list"
   ]
  },
  {
   "cell_type": "code",
   "execution_count": 33,
   "metadata": {},
   "outputs": [],
   "source": [
    "# importing to create the 4 important and advanced features\n",
    "# this blog is awesome to learn fuzz with simple examples > https://chairnerd.seatgeek.com/fuzzywuzzy-fuzzy-string-matching-in-python/\n",
    "from fuzzywuzzy import fuzz"
   ]
  },
  {
   "cell_type": "markdown",
   "metadata": {},
   "source": [
    "Meaning of the vairables used below:\n",
    "* cwc_min:  Ratio of common_word_count to min lenghth of word count of Q1 and Q2.\n",
    "* cwc_max:  Ratio of common_word_count to max lenghth of word count of Q1 and Q2. \n",
    "* csc_min:  Ratio of common_stop_count to min lenghth of stop count of Q1 and Q2.\n",
    "* csc_max:  Ratio of common_stop_count to max lenghth of stop count of Q1 and Q2.\n",
    "* ctc_min:  Ratio of common_token_count to min lenghth of token count of Q1 and Q2.\n",
    "* ctc_max:  Ratio of common_token_count to max lenghth of token count of Q1 and Q2.\n",
    "* last_word_eq:  Check if First word of both questions is equal or not.\n",
    "* first_word_eq:  Check if First word of both questions is equal or not.\n",
    "* abs_len_diff:  Absolute length difference\n",
    "* mean_len:  Average Token Length of both Questions.\n",
    "* fuzz_ratio, fuzz_partial_ratio, token_sort_ratio and token_set_ratio: all explained here: http://chairnerd.seatgeek.com/fuzzywuzzy-fuzzy-string-matching-in-python/"
   ]
  },
  {
   "cell_type": "code",
   "execution_count": 34,
   "metadata": {},
   "outputs": [],
   "source": [
    "def get_advanced_features (df):\n",
    "    \"\"\"\n",
    "    Creating all 14 advanced features after preprocessing \n",
    "    using the helper methods generate_advanced_features (question1, question2)\n",
    "    and fuzzwuzzy library\n",
    "    \n",
    "    To use it just call it and pass the dataframe\n",
    "    \"\"\"\n",
    "    # preprocessing each question\n",
    "    df[\"question1\"] = df[\"question1\"].fillna(\"\").apply(preprocess)\n",
    "    df[\"question2\"] = df[\"question2\"].fillna(\"\").apply(preprocess)\n",
    "    \n",
    "    # getting advanced features by using the helper method\n",
    "    advanced_features_from_tokens = df.apply(lambda row: generate_advanced_features_from_tokens(row[\"question1\"], row[\"question2\"]), axis=1)\n",
    "    \n",
    "    # adding the features to the dataframe\n",
    "    df[\"cwc_min\"]       = list(map(lambda x: x[0], advanced_features_from_tokens))\n",
    "    df[\"cwc_max\"]       = list(map(lambda x: x[1], advanced_features_from_tokens))\n",
    "    df[\"csc_min\"]       = list(map(lambda x: x[2], advanced_features_from_tokens))\n",
    "    df[\"csc_max\"]       = list(map(lambda x: x[3], advanced_features_from_tokens))\n",
    "    df[\"ctc_min\"]       = list(map(lambda x: x[4], advanced_features_from_tokens))\n",
    "    df[\"ctc_max\"]       = list(map(lambda x: x[5], advanced_features_from_tokens))\n",
    "    df[\"last_word_eq\"]  = list(map(lambda x: x[6], advanced_features_from_tokens))\n",
    "    df[\"first_word_eq\"] = list(map(lambda x: x[7], advanced_features_from_tokens))\n",
    "    df[\"abs_len_diff\"]  = list(map(lambda x: x[8], advanced_features_from_tokens))\n",
    "    df[\"mean_len\"]      = list(map(lambda x: x[9], advanced_features_from_tokens))\n",
    "    \n",
    "    # adding the 4 fuzz features\n",
    "    df[\"fuzz_ratio\"]            = df.apply(lambda x: fuzz.QRatio(x[\"question1\"], x[\"question2\"]), axis=1)\n",
    "    df[\"fuzz_partial_ratio\"]    = df.apply(lambda x: fuzz.partial_ratio(x[\"question1\"], x[\"question2\"]), axis=1)\n",
    "    df[\"token_set_ratio\"]       = df.apply(lambda x: fuzz.token_set_ratio(x[\"question1\"], x[\"question2\"]), axis=1)\n",
    "    df[\"token_sort_ratio\"]      = df.apply(lambda x: fuzz.token_sort_ratio(x[\"question1\"], x[\"question2\"]), axis=1)\n",
    "    \n",
    "    df.to_csv(\"df_advanced_features.csv\", index=False)\n",
    "    return df"
   ]
  },
  {
   "cell_type": "code",
   "execution_count": 35,
   "metadata": {
    "scrolled": true
   },
   "outputs": [],
   "source": [
    "df_with_advanced = get_advanced_features(df_sample_basic)"
   ]
  },
  {
   "cell_type": "markdown",
   "metadata": {},
   "source": [
    "We have now **exported the dataframe with advanced features** if we need to start running from this point just run the next command"
   ]
  },
  {
   "cell_type": "code",
   "execution_count": 36,
   "metadata": {},
   "outputs": [],
   "source": [
    "df_sample_advanced = pd.read_csv('df_advanced_features.csv')"
   ]
  },
  {
   "cell_type": "code",
   "execution_count": 37,
   "metadata": {},
   "outputs": [
    {
     "data": {
      "text/html": [
       "<div>\n",
       "<style scoped>\n",
       "    .dataframe tbody tr th:only-of-type {\n",
       "        vertical-align: middle;\n",
       "    }\n",
       "\n",
       "    .dataframe tbody tr th {\n",
       "        vertical-align: top;\n",
       "    }\n",
       "\n",
       "    .dataframe thead th {\n",
       "        text-align: right;\n",
       "    }\n",
       "</style>\n",
       "<table border=\"1\" class=\"dataframe\">\n",
       "  <thead>\n",
       "    <tr style=\"text-align: right;\">\n",
       "      <th></th>\n",
       "      <th>id</th>\n",
       "      <th>qid1</th>\n",
       "      <th>qid2</th>\n",
       "      <th>question1</th>\n",
       "      <th>question2</th>\n",
       "      <th>is_duplicate</th>\n",
       "      <th>q1_id_frequency</th>\n",
       "      <th>q2_id_frequency</th>\n",
       "      <th>q1_length</th>\n",
       "      <th>q2_length</th>\n",
       "      <th>...</th>\n",
       "      <th>ctc_min</th>\n",
       "      <th>ctc_max</th>\n",
       "      <th>last_word_eq</th>\n",
       "      <th>first_word_eq</th>\n",
       "      <th>abs_len_diff</th>\n",
       "      <th>mean_len</th>\n",
       "      <th>fuzz_ratio</th>\n",
       "      <th>fuzz_partial_ratio</th>\n",
       "      <th>token_set_ratio</th>\n",
       "      <th>token_sort_ratio</th>\n",
       "    </tr>\n",
       "  </thead>\n",
       "  <tbody>\n",
       "    <tr>\n",
       "      <th>0</th>\n",
       "      <td>8067</td>\n",
       "      <td>15738</td>\n",
       "      <td>15739</td>\n",
       "      <td>how do i play pokémon go in korea</td>\n",
       "      <td>how do i play pokémon go in china</td>\n",
       "      <td>0</td>\n",
       "      <td>1</td>\n",
       "      <td>1</td>\n",
       "      <td>34</td>\n",
       "      <td>34</td>\n",
       "      <td>...</td>\n",
       "      <td>0.874891</td>\n",
       "      <td>0.874891</td>\n",
       "      <td>0.0</td>\n",
       "      <td>1.0</td>\n",
       "      <td>0.0</td>\n",
       "      <td>8.0</td>\n",
       "      <td>88</td>\n",
       "      <td>88</td>\n",
       "      <td>90</td>\n",
       "      <td>81</td>\n",
       "    </tr>\n",
       "  </tbody>\n",
       "</table>\n",
       "<p>1 rows × 31 columns</p>\n",
       "</div>"
      ],
      "text/plain": [
       "     id   qid1   qid2                           question1  \\\n",
       "0  8067  15738  15739  how do i play pokémon go in korea    \n",
       "\n",
       "                            question2  is_duplicate  q1_id_frequency  \\\n",
       "0  how do i play pokémon go in china              0                1   \n",
       "\n",
       "   q2_id_frequency  q1_length  q2_length  ...   ctc_min   ctc_max  \\\n",
       "0                1         34         34  ...  0.874891  0.874891   \n",
       "\n",
       "   last_word_eq  first_word_eq  abs_len_diff  mean_len  fuzz_ratio  \\\n",
       "0           0.0            1.0           0.0       8.0          88   \n",
       "\n",
       "   fuzz_partial_ratio  token_set_ratio  token_sort_ratio  \n",
       "0                  88               90                81  \n",
       "\n",
       "[1 rows x 31 columns]"
      ]
     },
     "execution_count": 37,
     "metadata": {},
     "output_type": "execute_result"
    }
   ],
   "source": [
    "df_sample_advanced.head(1)"
   ]
  },
  {
   "cell_type": "code",
   "execution_count": 38,
   "metadata": {},
   "outputs": [
    {
     "data": {
      "text/plain": [
       "Index(['id', 'qid1', 'qid2', 'question1', 'question2', 'is_duplicate',\n",
       "       'q1_id_frequency', 'q2_id_frequency', 'q1_length', 'q2_length',\n",
       "       'q1_number_of_words', 'q2_number_of_words', 'common_words',\n",
       "       'total_words', 'common_words_share', 'freq_q1+q2', 'freq_q1-q2',\n",
       "       'cwc_min', 'cwc_max', 'csc_min', 'csc_max', 'ctc_min', 'ctc_max',\n",
       "       'last_word_eq', 'first_word_eq', 'abs_len_diff', 'mean_len',\n",
       "       'fuzz_ratio', 'fuzz_partial_ratio', 'token_set_ratio',\n",
       "       'token_sort_ratio'],\n",
       "      dtype='object')"
      ]
     },
     "execution_count": 38,
     "metadata": {},
     "output_type": "execute_result"
    }
   ],
   "source": [
    "df_sample_advanced.columns"
   ]
  },
  {
   "cell_type": "markdown",
   "metadata": {},
   "source": [
    "Now we have 25 features from our data let's continue with featurizing text with **TfidfVectorizer**"
   ]
  },
  {
   "cell_type": "markdown",
   "metadata": {},
   "source": [
    "### Featurizing Text with TfidfVectorizer\n",
    "TfidfVectorizer is Equivalent to **CountVectorizer** followed by **TfidfTransformer**"
   ]
  },
  {
   "cell_type": "code",
   "execution_count": 39,
   "metadata": {},
   "outputs": [],
   "source": [
    "# importing important libraries\n",
    "from sklearn.feature_extraction.text import TfidfVectorizer"
   ]
  },
  {
   "cell_type": "code",
   "execution_count": 40,
   "metadata": {},
   "outputs": [],
   "source": [
    "df_sample_advanced['question1'] = df_sample_advanced['question1'].apply(lambda x:str(x))\n",
    "df_sample_advanced['question2'] = df_sample_advanced['question2'].apply(lambda x:str(x))\n",
    "\n",
    "# Merge the the two questions after converting them to list\n",
    "questions = list(df_sample_advanced['question1']) + list(df_sample_advanced['question2'])\n",
    "# Intitialize TfidfVectorizer\n",
    "tfidf = TfidfVectorizer(max_features=3000, ngram_range=(1,2))\n",
    "# Fit and Transform tfidf in our data (questions)\n",
    "q1_array , q2_array = np.vsplit(tfidf.fit_transform(questions).toarray(),2)"
   ]
  },
  {
   "cell_type": "code",
   "execution_count": 41,
   "metadata": {},
   "outputs": [
    {
     "name": "stdout",
     "output_type": "stream",
     "text": [
      "(40000, 3000)\n"
     ]
    },
    {
     "data": {
      "text/html": [
       "<div>\n",
       "<style scoped>\n",
       "    .dataframe tbody tr th:only-of-type {\n",
       "        vertical-align: middle;\n",
       "    }\n",
       "\n",
       "    .dataframe tbody tr th {\n",
       "        vertical-align: top;\n",
       "    }\n",
       "\n",
       "    .dataframe thead th {\n",
       "        text-align: right;\n",
       "    }\n",
       "</style>\n",
       "<table border=\"1\" class=\"dataframe\">\n",
       "  <thead>\n",
       "    <tr style=\"text-align: right;\">\n",
       "      <th></th>\n",
       "      <th>0</th>\n",
       "      <th>1</th>\n",
       "      <th>2</th>\n",
       "      <th>3</th>\n",
       "      <th>4</th>\n",
       "      <th>5</th>\n",
       "      <th>6</th>\n",
       "      <th>7</th>\n",
       "      <th>8</th>\n",
       "      <th>9</th>\n",
       "      <th>...</th>\n",
       "      <th>2990</th>\n",
       "      <th>2991</th>\n",
       "      <th>2992</th>\n",
       "      <th>2993</th>\n",
       "      <th>2994</th>\n",
       "      <th>2995</th>\n",
       "      <th>2996</th>\n",
       "      <th>2997</th>\n",
       "      <th>2998</th>\n",
       "      <th>2999</th>\n",
       "    </tr>\n",
       "  </thead>\n",
       "  <tbody>\n",
       "    <tr>\n",
       "      <th>0</th>\n",
       "      <td>0.0</td>\n",
       "      <td>0.0</td>\n",
       "      <td>0.0</td>\n",
       "      <td>0.0</td>\n",
       "      <td>0.0</td>\n",
       "      <td>0.0</td>\n",
       "      <td>0.0</td>\n",
       "      <td>0.0</td>\n",
       "      <td>0.0</td>\n",
       "      <td>0.0</td>\n",
       "      <td>...</td>\n",
       "      <td>0.0</td>\n",
       "      <td>0.0</td>\n",
       "      <td>0.0</td>\n",
       "      <td>0.0</td>\n",
       "      <td>0.0</td>\n",
       "      <td>0.0</td>\n",
       "      <td>0.0</td>\n",
       "      <td>0.0</td>\n",
       "      <td>0.0</td>\n",
       "      <td>0.0</td>\n",
       "    </tr>\n",
       "    <tr>\n",
       "      <th>1</th>\n",
       "      <td>0.0</td>\n",
       "      <td>0.0</td>\n",
       "      <td>0.0</td>\n",
       "      <td>0.0</td>\n",
       "      <td>0.0</td>\n",
       "      <td>0.0</td>\n",
       "      <td>0.0</td>\n",
       "      <td>0.0</td>\n",
       "      <td>0.0</td>\n",
       "      <td>0.0</td>\n",
       "      <td>...</td>\n",
       "      <td>0.0</td>\n",
       "      <td>0.0</td>\n",
       "      <td>0.0</td>\n",
       "      <td>0.0</td>\n",
       "      <td>0.0</td>\n",
       "      <td>0.0</td>\n",
       "      <td>0.0</td>\n",
       "      <td>0.0</td>\n",
       "      <td>0.0</td>\n",
       "      <td>0.0</td>\n",
       "    </tr>\n",
       "    <tr>\n",
       "      <th>2</th>\n",
       "      <td>0.0</td>\n",
       "      <td>0.0</td>\n",
       "      <td>0.0</td>\n",
       "      <td>0.0</td>\n",
       "      <td>0.0</td>\n",
       "      <td>0.0</td>\n",
       "      <td>0.0</td>\n",
       "      <td>0.0</td>\n",
       "      <td>0.0</td>\n",
       "      <td>0.0</td>\n",
       "      <td>...</td>\n",
       "      <td>0.0</td>\n",
       "      <td>0.0</td>\n",
       "      <td>0.0</td>\n",
       "      <td>0.0</td>\n",
       "      <td>0.0</td>\n",
       "      <td>0.0</td>\n",
       "      <td>0.0</td>\n",
       "      <td>0.0</td>\n",
       "      <td>0.0</td>\n",
       "      <td>0.0</td>\n",
       "    </tr>\n",
       "    <tr>\n",
       "      <th>3</th>\n",
       "      <td>0.0</td>\n",
       "      <td>0.0</td>\n",
       "      <td>0.0</td>\n",
       "      <td>0.0</td>\n",
       "      <td>0.0</td>\n",
       "      <td>0.0</td>\n",
       "      <td>0.0</td>\n",
       "      <td>0.0</td>\n",
       "      <td>0.0</td>\n",
       "      <td>0.0</td>\n",
       "      <td>...</td>\n",
       "      <td>0.0</td>\n",
       "      <td>0.0</td>\n",
       "      <td>0.0</td>\n",
       "      <td>0.0</td>\n",
       "      <td>0.0</td>\n",
       "      <td>0.0</td>\n",
       "      <td>0.0</td>\n",
       "      <td>0.0</td>\n",
       "      <td>0.0</td>\n",
       "      <td>0.0</td>\n",
       "    </tr>\n",
       "    <tr>\n",
       "      <th>4</th>\n",
       "      <td>0.0</td>\n",
       "      <td>0.0</td>\n",
       "      <td>0.0</td>\n",
       "      <td>0.0</td>\n",
       "      <td>0.0</td>\n",
       "      <td>0.0</td>\n",
       "      <td>0.0</td>\n",
       "      <td>0.0</td>\n",
       "      <td>0.0</td>\n",
       "      <td>0.0</td>\n",
       "      <td>...</td>\n",
       "      <td>0.0</td>\n",
       "      <td>0.0</td>\n",
       "      <td>0.0</td>\n",
       "      <td>0.0</td>\n",
       "      <td>0.0</td>\n",
       "      <td>0.0</td>\n",
       "      <td>0.0</td>\n",
       "      <td>0.0</td>\n",
       "      <td>0.0</td>\n",
       "      <td>0.0</td>\n",
       "    </tr>\n",
       "  </tbody>\n",
       "</table>\n",
       "<p>5 rows × 3000 columns</p>\n",
       "</div>"
      ],
      "text/plain": [
       "   0     1     2     3     4     5     6     7     8     9     ...  2990  \\\n",
       "0   0.0   0.0   0.0   0.0   0.0   0.0   0.0   0.0   0.0   0.0  ...   0.0   \n",
       "1   0.0   0.0   0.0   0.0   0.0   0.0   0.0   0.0   0.0   0.0  ...   0.0   \n",
       "2   0.0   0.0   0.0   0.0   0.0   0.0   0.0   0.0   0.0   0.0  ...   0.0   \n",
       "3   0.0   0.0   0.0   0.0   0.0   0.0   0.0   0.0   0.0   0.0  ...   0.0   \n",
       "4   0.0   0.0   0.0   0.0   0.0   0.0   0.0   0.0   0.0   0.0  ...   0.0   \n",
       "\n",
       "   2991  2992  2993  2994  2995  2996  2997  2998  2999  \n",
       "0   0.0   0.0   0.0   0.0   0.0   0.0   0.0   0.0   0.0  \n",
       "1   0.0   0.0   0.0   0.0   0.0   0.0   0.0   0.0   0.0  \n",
       "2   0.0   0.0   0.0   0.0   0.0   0.0   0.0   0.0   0.0  \n",
       "3   0.0   0.0   0.0   0.0   0.0   0.0   0.0   0.0   0.0  \n",
       "4   0.0   0.0   0.0   0.0   0.0   0.0   0.0   0.0   0.0  \n",
       "\n",
       "[5 rows x 3000 columns]"
      ]
     },
     "execution_count": 41,
     "metadata": {},
     "output_type": "execute_result"
    }
   ],
   "source": [
    "q1_tfidf_df = pd.DataFrame(q1_array,index=df_sample_advanced.index)\n",
    "q2_tfidf_df = pd.DataFrame(q2_array,index=df_sample_advanced.index)\n",
    "print (q1_tfidf_df.shape)\n",
    "q1_tfidf_df.head()"
   ]
  },
  {
   "cell_type": "code",
   "execution_count": 42,
   "metadata": {},
   "outputs": [
    {
     "name": "stdout",
     "output_type": "stream",
     "text": [
      "(40000, 6000)\n"
     ]
    },
    {
     "data": {
      "text/html": [
       "<div>\n",
       "<style scoped>\n",
       "    .dataframe tbody tr th:only-of-type {\n",
       "        vertical-align: middle;\n",
       "    }\n",
       "\n",
       "    .dataframe tbody tr th {\n",
       "        vertical-align: top;\n",
       "    }\n",
       "\n",
       "    .dataframe thead th {\n",
       "        text-align: right;\n",
       "    }\n",
       "</style>\n",
       "<table border=\"1\" class=\"dataframe\">\n",
       "  <thead>\n",
       "    <tr style=\"text-align: right;\">\n",
       "      <th></th>\n",
       "      <th>0</th>\n",
       "      <th>1</th>\n",
       "      <th>2</th>\n",
       "      <th>3</th>\n",
       "      <th>4</th>\n",
       "      <th>5</th>\n",
       "      <th>6</th>\n",
       "      <th>7</th>\n",
       "      <th>8</th>\n",
       "      <th>9</th>\n",
       "      <th>...</th>\n",
       "      <th>2990</th>\n",
       "      <th>2991</th>\n",
       "      <th>2992</th>\n",
       "      <th>2993</th>\n",
       "      <th>2994</th>\n",
       "      <th>2995</th>\n",
       "      <th>2996</th>\n",
       "      <th>2997</th>\n",
       "      <th>2998</th>\n",
       "      <th>2999</th>\n",
       "    </tr>\n",
       "  </thead>\n",
       "  <tbody>\n",
       "    <tr>\n",
       "      <th>0</th>\n",
       "      <td>0.0</td>\n",
       "      <td>0.0</td>\n",
       "      <td>0.0</td>\n",
       "      <td>0.0</td>\n",
       "      <td>0.0</td>\n",
       "      <td>0.0</td>\n",
       "      <td>0.0</td>\n",
       "      <td>0.0</td>\n",
       "      <td>0.0</td>\n",
       "      <td>0.0</td>\n",
       "      <td>...</td>\n",
       "      <td>0.0</td>\n",
       "      <td>0.0</td>\n",
       "      <td>0.0</td>\n",
       "      <td>0.0</td>\n",
       "      <td>0.0</td>\n",
       "      <td>0.0</td>\n",
       "      <td>0.0</td>\n",
       "      <td>0.0</td>\n",
       "      <td>0.0</td>\n",
       "      <td>0.0</td>\n",
       "    </tr>\n",
       "    <tr>\n",
       "      <th>1</th>\n",
       "      <td>0.0</td>\n",
       "      <td>0.0</td>\n",
       "      <td>0.0</td>\n",
       "      <td>0.0</td>\n",
       "      <td>0.0</td>\n",
       "      <td>0.0</td>\n",
       "      <td>0.0</td>\n",
       "      <td>0.0</td>\n",
       "      <td>0.0</td>\n",
       "      <td>0.0</td>\n",
       "      <td>...</td>\n",
       "      <td>0.0</td>\n",
       "      <td>0.0</td>\n",
       "      <td>0.0</td>\n",
       "      <td>0.0</td>\n",
       "      <td>0.0</td>\n",
       "      <td>0.0</td>\n",
       "      <td>0.0</td>\n",
       "      <td>0.0</td>\n",
       "      <td>0.0</td>\n",
       "      <td>0.0</td>\n",
       "    </tr>\n",
       "    <tr>\n",
       "      <th>2</th>\n",
       "      <td>0.0</td>\n",
       "      <td>0.0</td>\n",
       "      <td>0.0</td>\n",
       "      <td>0.0</td>\n",
       "      <td>0.0</td>\n",
       "      <td>0.0</td>\n",
       "      <td>0.0</td>\n",
       "      <td>0.0</td>\n",
       "      <td>0.0</td>\n",
       "      <td>0.0</td>\n",
       "      <td>...</td>\n",
       "      <td>0.0</td>\n",
       "      <td>0.0</td>\n",
       "      <td>0.0</td>\n",
       "      <td>0.0</td>\n",
       "      <td>0.0</td>\n",
       "      <td>0.0</td>\n",
       "      <td>0.0</td>\n",
       "      <td>0.0</td>\n",
       "      <td>0.0</td>\n",
       "      <td>0.0</td>\n",
       "    </tr>\n",
       "    <tr>\n",
       "      <th>3</th>\n",
       "      <td>0.0</td>\n",
       "      <td>0.0</td>\n",
       "      <td>0.0</td>\n",
       "      <td>0.0</td>\n",
       "      <td>0.0</td>\n",
       "      <td>0.0</td>\n",
       "      <td>0.0</td>\n",
       "      <td>0.0</td>\n",
       "      <td>0.0</td>\n",
       "      <td>0.0</td>\n",
       "      <td>...</td>\n",
       "      <td>0.0</td>\n",
       "      <td>0.0</td>\n",
       "      <td>0.0</td>\n",
       "      <td>0.0</td>\n",
       "      <td>0.0</td>\n",
       "      <td>0.0</td>\n",
       "      <td>0.0</td>\n",
       "      <td>0.0</td>\n",
       "      <td>0.0</td>\n",
       "      <td>0.0</td>\n",
       "    </tr>\n",
       "    <tr>\n",
       "      <th>4</th>\n",
       "      <td>0.0</td>\n",
       "      <td>0.0</td>\n",
       "      <td>0.0</td>\n",
       "      <td>0.0</td>\n",
       "      <td>0.0</td>\n",
       "      <td>0.0</td>\n",
       "      <td>0.0</td>\n",
       "      <td>0.0</td>\n",
       "      <td>0.0</td>\n",
       "      <td>0.0</td>\n",
       "      <td>...</td>\n",
       "      <td>0.0</td>\n",
       "      <td>0.0</td>\n",
       "      <td>0.0</td>\n",
       "      <td>0.0</td>\n",
       "      <td>0.0</td>\n",
       "      <td>0.0</td>\n",
       "      <td>0.0</td>\n",
       "      <td>0.0</td>\n",
       "      <td>0.0</td>\n",
       "      <td>0.0</td>\n",
       "    </tr>\n",
       "  </tbody>\n",
       "</table>\n",
       "<p>5 rows × 6000 columns</p>\n",
       "</div>"
      ],
      "text/plain": [
       "   0     1     2     3     4     5     6     7     8     9     ...  2990  \\\n",
       "0   0.0   0.0   0.0   0.0   0.0   0.0   0.0   0.0   0.0   0.0  ...   0.0   \n",
       "1   0.0   0.0   0.0   0.0   0.0   0.0   0.0   0.0   0.0   0.0  ...   0.0   \n",
       "2   0.0   0.0   0.0   0.0   0.0   0.0   0.0   0.0   0.0   0.0  ...   0.0   \n",
       "3   0.0   0.0   0.0   0.0   0.0   0.0   0.0   0.0   0.0   0.0  ...   0.0   \n",
       "4   0.0   0.0   0.0   0.0   0.0   0.0   0.0   0.0   0.0   0.0  ...   0.0   \n",
       "\n",
       "   2991  2992  2993  2994  2995  2996  2997  2998  2999  \n",
       "0   0.0   0.0   0.0   0.0   0.0   0.0   0.0   0.0   0.0  \n",
       "1   0.0   0.0   0.0   0.0   0.0   0.0   0.0   0.0   0.0  \n",
       "2   0.0   0.0   0.0   0.0   0.0   0.0   0.0   0.0   0.0  \n",
       "3   0.0   0.0   0.0   0.0   0.0   0.0   0.0   0.0   0.0  \n",
       "4   0.0   0.0   0.0   0.0   0.0   0.0   0.0   0.0   0.0  \n",
       "\n",
       "[5 rows x 6000 columns]"
      ]
     },
     "execution_count": 42,
     "metadata": {},
     "output_type": "execute_result"
    }
   ],
   "source": [
    "temp_df = pd.concat([q1_tfidf_df,q1_tfidf_df],axis=1)\n",
    "print (temp_df.shape)\n",
    "temp_df.head()"
   ]
  },
  {
   "cell_type": "code",
   "execution_count": 43,
   "metadata": {},
   "outputs": [
    {
     "name": "stdout",
     "output_type": "stream",
     "text": [
      "(40000, 6031)\n"
     ]
    },
    {
     "data": {
      "text/html": [
       "<div>\n",
       "<style scoped>\n",
       "    .dataframe tbody tr th:only-of-type {\n",
       "        vertical-align: middle;\n",
       "    }\n",
       "\n",
       "    .dataframe tbody tr th {\n",
       "        vertical-align: top;\n",
       "    }\n",
       "\n",
       "    .dataframe thead th {\n",
       "        text-align: right;\n",
       "    }\n",
       "</style>\n",
       "<table border=\"1\" class=\"dataframe\">\n",
       "  <thead>\n",
       "    <tr style=\"text-align: right;\">\n",
       "      <th></th>\n",
       "      <th>id</th>\n",
       "      <th>qid1</th>\n",
       "      <th>qid2</th>\n",
       "      <th>question1</th>\n",
       "      <th>question2</th>\n",
       "      <th>is_duplicate</th>\n",
       "      <th>q1_id_frequency</th>\n",
       "      <th>q2_id_frequency</th>\n",
       "      <th>q1_length</th>\n",
       "      <th>q2_length</th>\n",
       "      <th>...</th>\n",
       "      <th>2990</th>\n",
       "      <th>2991</th>\n",
       "      <th>2992</th>\n",
       "      <th>2993</th>\n",
       "      <th>2994</th>\n",
       "      <th>2995</th>\n",
       "      <th>2996</th>\n",
       "      <th>2997</th>\n",
       "      <th>2998</th>\n",
       "      <th>2999</th>\n",
       "    </tr>\n",
       "  </thead>\n",
       "  <tbody>\n",
       "    <tr>\n",
       "      <th>0</th>\n",
       "      <td>8067</td>\n",
       "      <td>15738</td>\n",
       "      <td>15739</td>\n",
       "      <td>how do i play pokémon go in korea</td>\n",
       "      <td>how do i play pokémon go in china</td>\n",
       "      <td>0</td>\n",
       "      <td>1</td>\n",
       "      <td>1</td>\n",
       "      <td>34</td>\n",
       "      <td>34</td>\n",
       "      <td>...</td>\n",
       "      <td>0.0</td>\n",
       "      <td>0.0</td>\n",
       "      <td>0.0</td>\n",
       "      <td>0.0</td>\n",
       "      <td>0.0</td>\n",
       "      <td>0.0</td>\n",
       "      <td>0.0</td>\n",
       "      <td>0.0</td>\n",
       "      <td>0.0</td>\n",
       "      <td>0.0</td>\n",
       "    </tr>\n",
       "    <tr>\n",
       "      <th>1</th>\n",
       "      <td>368101</td>\n",
       "      <td>12736</td>\n",
       "      <td>104117</td>\n",
       "      <td>what are some of the best side dishes for crab...</td>\n",
       "      <td>what are some good side dishes for buffalo chi...</td>\n",
       "      <td>0</td>\n",
       "      <td>1</td>\n",
       "      <td>1</td>\n",
       "      <td>53</td>\n",
       "      <td>51</td>\n",
       "      <td>...</td>\n",
       "      <td>0.0</td>\n",
       "      <td>0.0</td>\n",
       "      <td>0.0</td>\n",
       "      <td>0.0</td>\n",
       "      <td>0.0</td>\n",
       "      <td>0.0</td>\n",
       "      <td>0.0</td>\n",
       "      <td>0.0</td>\n",
       "      <td>0.0</td>\n",
       "      <td>0.0</td>\n",
       "    </tr>\n",
       "    <tr>\n",
       "      <th>2</th>\n",
       "      <td>70497</td>\n",
       "      <td>121486</td>\n",
       "      <td>121487</td>\n",
       "      <td>which is more advisable and better material fo...</td>\n",
       "      <td>what is the best server setup for buddypress</td>\n",
       "      <td>0</td>\n",
       "      <td>1</td>\n",
       "      <td>1</td>\n",
       "      <td>96</td>\n",
       "      <td>45</td>\n",
       "      <td>...</td>\n",
       "      <td>0.0</td>\n",
       "      <td>0.0</td>\n",
       "      <td>0.0</td>\n",
       "      <td>0.0</td>\n",
       "      <td>0.0</td>\n",
       "      <td>0.0</td>\n",
       "      <td>0.0</td>\n",
       "      <td>0.0</td>\n",
       "      <td>0.0</td>\n",
       "      <td>0.0</td>\n",
       "    </tr>\n",
       "    <tr>\n",
       "      <th>3</th>\n",
       "      <td>226567</td>\n",
       "      <td>254474</td>\n",
       "      <td>258192</td>\n",
       "      <td>how do i improve logical programming skills</td>\n",
       "      <td>how can i improve my logical skills for progra...</td>\n",
       "      <td>1</td>\n",
       "      <td>2</td>\n",
       "      <td>2</td>\n",
       "      <td>44</td>\n",
       "      <td>52</td>\n",
       "      <td>...</td>\n",
       "      <td>0.0</td>\n",
       "      <td>0.0</td>\n",
       "      <td>0.0</td>\n",
       "      <td>0.0</td>\n",
       "      <td>0.0</td>\n",
       "      <td>0.0</td>\n",
       "      <td>0.0</td>\n",
       "      <td>0.0</td>\n",
       "      <td>0.0</td>\n",
       "      <td>0.0</td>\n",
       "    </tr>\n",
       "    <tr>\n",
       "      <th>4</th>\n",
       "      <td>73186</td>\n",
       "      <td>48103</td>\n",
       "      <td>3062</td>\n",
       "      <td>how close we are to see 3rd world war</td>\n",
       "      <td>how close is a world war iii</td>\n",
       "      <td>1</td>\n",
       "      <td>1</td>\n",
       "      <td>4</td>\n",
       "      <td>38</td>\n",
       "      <td>29</td>\n",
       "      <td>...</td>\n",
       "      <td>0.0</td>\n",
       "      <td>0.0</td>\n",
       "      <td>0.0</td>\n",
       "      <td>0.0</td>\n",
       "      <td>0.0</td>\n",
       "      <td>0.0</td>\n",
       "      <td>0.0</td>\n",
       "      <td>0.0</td>\n",
       "      <td>0.0</td>\n",
       "      <td>0.0</td>\n",
       "    </tr>\n",
       "  </tbody>\n",
       "</table>\n",
       "<p>5 rows × 6031 columns</p>\n",
       "</div>"
      ],
      "text/plain": [
       "       id    qid1    qid2                                          question1  \\\n",
       "0    8067   15738   15739                 how do i play pokémon go in korea    \n",
       "1  368101   12736  104117  what are some of the best side dishes for crab...   \n",
       "2   70497  121486  121487  which is more advisable and better material fo...   \n",
       "3  226567  254474  258192       how do i improve logical programming skills    \n",
       "4   73186   48103    3062             how close we are to see 3rd world war    \n",
       "\n",
       "                                           question2  is_duplicate  \\\n",
       "0                 how do i play pokémon go in china              0   \n",
       "1  what are some good side dishes for buffalo chi...             0   \n",
       "2      what is the best server setup for buddypress              0   \n",
       "3  how can i improve my logical skills for progra...             1   \n",
       "4                      how close is a world war iii              1   \n",
       "\n",
       "   q1_id_frequency  q2_id_frequency  q1_length  q2_length  ...  2990  2991  \\\n",
       "0                1                1         34         34  ...   0.0   0.0   \n",
       "1                1                1         53         51  ...   0.0   0.0   \n",
       "2                1                1         96         45  ...   0.0   0.0   \n",
       "3                2                2         44         52  ...   0.0   0.0   \n",
       "4                1                4         38         29  ...   0.0   0.0   \n",
       "\n",
       "   2992  2993  2994  2995  2996  2997  2998  2999  \n",
       "0   0.0   0.0   0.0   0.0   0.0   0.0   0.0   0.0  \n",
       "1   0.0   0.0   0.0   0.0   0.0   0.0   0.0   0.0  \n",
       "2   0.0   0.0   0.0   0.0   0.0   0.0   0.0   0.0  \n",
       "3   0.0   0.0   0.0   0.0   0.0   0.0   0.0   0.0  \n",
       "4   0.0   0.0   0.0   0.0   0.0   0.0   0.0   0.0  \n",
       "\n",
       "[5 rows x 6031 columns]"
      ]
     },
     "execution_count": 43,
     "metadata": {},
     "output_type": "execute_result"
    }
   ],
   "source": [
    "df_sample_featurized = pd.concat([df_sample_advanced,temp_df],axis=1)\n",
    "print (df_sample_featurized.shape)\n",
    "df_sample_featurized.head()"
   ]
  },
  {
   "cell_type": "code",
   "execution_count": 44,
   "metadata": {},
   "outputs": [],
   "source": [
    "df_sample_featurized.to_csv(\"df_tfidfvectorizer_features.csv\", index=False)"
   ]
  },
  {
   "cell_type": "markdown",
   "metadata": {},
   "source": [
    "We have now **exported the dataframe with tfidfvectorizer features** if we need to start running from this point just run the next command"
   ]
  },
  {
   "cell_type": "code",
   "execution_count": 45,
   "metadata": {},
   "outputs": [
    {
     "name": "stdout",
     "output_type": "stream",
     "text": [
      "(40000, 6031)\n"
     ]
    },
    {
     "data": {
      "text/html": [
       "<div>\n",
       "<style scoped>\n",
       "    .dataframe tbody tr th:only-of-type {\n",
       "        vertical-align: middle;\n",
       "    }\n",
       "\n",
       "    .dataframe tbody tr th {\n",
       "        vertical-align: top;\n",
       "    }\n",
       "\n",
       "    .dataframe thead th {\n",
       "        text-align: right;\n",
       "    }\n",
       "</style>\n",
       "<table border=\"1\" class=\"dataframe\">\n",
       "  <thead>\n",
       "    <tr style=\"text-align: right;\">\n",
       "      <th></th>\n",
       "      <th>id</th>\n",
       "      <th>qid1</th>\n",
       "      <th>qid2</th>\n",
       "      <th>question1</th>\n",
       "      <th>question2</th>\n",
       "      <th>is_duplicate</th>\n",
       "      <th>q1_id_frequency</th>\n",
       "      <th>q2_id_frequency</th>\n",
       "      <th>q1_length</th>\n",
       "      <th>q2_length</th>\n",
       "      <th>...</th>\n",
       "      <th>2990.1</th>\n",
       "      <th>2991.1</th>\n",
       "      <th>2992.1</th>\n",
       "      <th>2993.1</th>\n",
       "      <th>2994.1</th>\n",
       "      <th>2995.1</th>\n",
       "      <th>2996.1</th>\n",
       "      <th>2997.1</th>\n",
       "      <th>2998.1</th>\n",
       "      <th>2999.1</th>\n",
       "    </tr>\n",
       "  </thead>\n",
       "  <tbody>\n",
       "    <tr>\n",
       "      <th>0</th>\n",
       "      <td>8067</td>\n",
       "      <td>15738</td>\n",
       "      <td>15739</td>\n",
       "      <td>how do i play pokémon go in korea</td>\n",
       "      <td>how do i play pokémon go in china</td>\n",
       "      <td>0</td>\n",
       "      <td>1</td>\n",
       "      <td>1</td>\n",
       "      <td>34</td>\n",
       "      <td>34</td>\n",
       "      <td>...</td>\n",
       "      <td>0.0</td>\n",
       "      <td>0.0</td>\n",
       "      <td>0.0</td>\n",
       "      <td>0.0</td>\n",
       "      <td>0.0</td>\n",
       "      <td>0.0</td>\n",
       "      <td>0.0</td>\n",
       "      <td>0.0</td>\n",
       "      <td>0.0</td>\n",
       "      <td>0.0</td>\n",
       "    </tr>\n",
       "    <tr>\n",
       "      <th>1</th>\n",
       "      <td>368101</td>\n",
       "      <td>12736</td>\n",
       "      <td>104117</td>\n",
       "      <td>what are some of the best side dishes for crab...</td>\n",
       "      <td>what are some good side dishes for buffalo chi...</td>\n",
       "      <td>0</td>\n",
       "      <td>1</td>\n",
       "      <td>1</td>\n",
       "      <td>53</td>\n",
       "      <td>51</td>\n",
       "      <td>...</td>\n",
       "      <td>0.0</td>\n",
       "      <td>0.0</td>\n",
       "      <td>0.0</td>\n",
       "      <td>0.0</td>\n",
       "      <td>0.0</td>\n",
       "      <td>0.0</td>\n",
       "      <td>0.0</td>\n",
       "      <td>0.0</td>\n",
       "      <td>0.0</td>\n",
       "      <td>0.0</td>\n",
       "    </tr>\n",
       "    <tr>\n",
       "      <th>2</th>\n",
       "      <td>70497</td>\n",
       "      <td>121486</td>\n",
       "      <td>121487</td>\n",
       "      <td>which is more advisable and better material fo...</td>\n",
       "      <td>what is the best server setup for buddypress</td>\n",
       "      <td>0</td>\n",
       "      <td>1</td>\n",
       "      <td>1</td>\n",
       "      <td>96</td>\n",
       "      <td>45</td>\n",
       "      <td>...</td>\n",
       "      <td>0.0</td>\n",
       "      <td>0.0</td>\n",
       "      <td>0.0</td>\n",
       "      <td>0.0</td>\n",
       "      <td>0.0</td>\n",
       "      <td>0.0</td>\n",
       "      <td>0.0</td>\n",
       "      <td>0.0</td>\n",
       "      <td>0.0</td>\n",
       "      <td>0.0</td>\n",
       "    </tr>\n",
       "    <tr>\n",
       "      <th>3</th>\n",
       "      <td>226567</td>\n",
       "      <td>254474</td>\n",
       "      <td>258192</td>\n",
       "      <td>how do i improve logical programming skills</td>\n",
       "      <td>how can i improve my logical skills for progra...</td>\n",
       "      <td>1</td>\n",
       "      <td>2</td>\n",
       "      <td>2</td>\n",
       "      <td>44</td>\n",
       "      <td>52</td>\n",
       "      <td>...</td>\n",
       "      <td>0.0</td>\n",
       "      <td>0.0</td>\n",
       "      <td>0.0</td>\n",
       "      <td>0.0</td>\n",
       "      <td>0.0</td>\n",
       "      <td>0.0</td>\n",
       "      <td>0.0</td>\n",
       "      <td>0.0</td>\n",
       "      <td>0.0</td>\n",
       "      <td>0.0</td>\n",
       "    </tr>\n",
       "    <tr>\n",
       "      <th>4</th>\n",
       "      <td>73186</td>\n",
       "      <td>48103</td>\n",
       "      <td>3062</td>\n",
       "      <td>how close we are to see 3rd world war</td>\n",
       "      <td>how close is a world war iii</td>\n",
       "      <td>1</td>\n",
       "      <td>1</td>\n",
       "      <td>4</td>\n",
       "      <td>38</td>\n",
       "      <td>29</td>\n",
       "      <td>...</td>\n",
       "      <td>0.0</td>\n",
       "      <td>0.0</td>\n",
       "      <td>0.0</td>\n",
       "      <td>0.0</td>\n",
       "      <td>0.0</td>\n",
       "      <td>0.0</td>\n",
       "      <td>0.0</td>\n",
       "      <td>0.0</td>\n",
       "      <td>0.0</td>\n",
       "      <td>0.0</td>\n",
       "    </tr>\n",
       "  </tbody>\n",
       "</table>\n",
       "<p>5 rows × 6031 columns</p>\n",
       "</div>"
      ],
      "text/plain": [
       "       id    qid1    qid2                                          question1  \\\n",
       "0    8067   15738   15739                 how do i play pokémon go in korea    \n",
       "1  368101   12736  104117  what are some of the best side dishes for crab...   \n",
       "2   70497  121486  121487  which is more advisable and better material fo...   \n",
       "3  226567  254474  258192       how do i improve logical programming skills    \n",
       "4   73186   48103    3062             how close we are to see 3rd world war    \n",
       "\n",
       "                                           question2  is_duplicate  \\\n",
       "0                 how do i play pokémon go in china              0   \n",
       "1  what are some good side dishes for buffalo chi...             0   \n",
       "2      what is the best server setup for buddypress              0   \n",
       "3  how can i improve my logical skills for progra...             1   \n",
       "4                      how close is a world war iii              1   \n",
       "\n",
       "   q1_id_frequency  q2_id_frequency  q1_length  q2_length  ...  2990.1  \\\n",
       "0                1                1         34         34  ...     0.0   \n",
       "1                1                1         53         51  ...     0.0   \n",
       "2                1                1         96         45  ...     0.0   \n",
       "3                2                2         44         52  ...     0.0   \n",
       "4                1                4         38         29  ...     0.0   \n",
       "\n",
       "   2991.1  2992.1  2993.1  2994.1  2995.1  2996.1  2997.1  2998.1  2999.1  \n",
       "0     0.0     0.0     0.0     0.0     0.0     0.0     0.0     0.0     0.0  \n",
       "1     0.0     0.0     0.0     0.0     0.0     0.0     0.0     0.0     0.0  \n",
       "2     0.0     0.0     0.0     0.0     0.0     0.0     0.0     0.0     0.0  \n",
       "3     0.0     0.0     0.0     0.0     0.0     0.0     0.0     0.0     0.0  \n",
       "4     0.0     0.0     0.0     0.0     0.0     0.0     0.0     0.0     0.0  \n",
       "\n",
       "[5 rows x 6031 columns]"
      ]
     },
     "execution_count": 45,
     "metadata": {},
     "output_type": "execute_result"
    }
   ],
   "source": [
    "df_40k_ready = pd.read_csv('df_tfidfvectorizer_features.csv')\n",
    "print(df_40k_ready.shape)\n",
    "df_40k_ready.head()"
   ]
  },
  {
   "cell_type": "markdown",
   "metadata": {},
   "source": [
    "## Machine Learning Models"
   ]
  },
  {
   "cell_type": "code",
   "execution_count": 46,
   "metadata": {},
   "outputs": [],
   "source": [
    "#import train test split from sklearn\n",
    "from sklearn.model_selection import train_test_split\n",
    "\n",
    "# import our metrics like accuracy score and log loss and also confusion matrix\n",
    "from sklearn.metrics.classification import accuracy_score, log_loss\n",
    "# import confusion matrix from sklean\n",
    "from sklearn.metrics import confusion_matrix\n",
    "\n",
    "# we can use Logistic Regression Classifier and Linear SVM \n",
    "# or use SGDClassifier for both tasks changing loss function with log-loss and hinge-loss\n",
    "# SGDClassifier will be faster\n",
    "# import it with that from sklearn.linear_model import SGDClassifier\n",
    "# but I will stick with LogisticRegression and Support Vector Classifier (SVC)\n",
    "from sklearn.linear_model import LogisticRegression\n",
    "from sklearn.svm import SVC\n",
    "from sklearn.linear_model import SGDClassifier\n",
    "\n",
    "# Let's use also RandomForest and XGBoost Classifier\n",
    "from sklearn.ensemble import RandomForestClassifier\n",
    "import xgboost as xgb\n",
    "# we can also use hyper parameter tuning with GridSearchCV and RandomizedSearchCV\n",
    "\n",
    "# for calibration use \n",
    "from sklearn.calibration import CalibratedClassifierCV\n",
    "\n",
    "# import time to calculate the time taken by each classifier\n",
    "import time"
   ]
  },
  {
   "cell_type": "markdown",
   "metadata": {},
   "source": [
    "#### Creating function to plot our confusion matrix\n",
    "we will create a function called **plot_confusion_matrix** to plot our confusion matrix for each prediction we will made."
   ]
  },
  {
   "cell_type": "code",
   "execution_count": 47,
   "metadata": {},
   "outputs": [],
   "source": [
    "# define a function to plot the confusion matrix, and also for the precision and recall to see where it drop\n",
    "def plot_confusion_matrix(y_test, y_predict):\n",
    "    Conv_mat = confusion_matrix(y_test, y_predict)    \n",
    "    recall =(((Conv_mat.T)/(Conv_mat.sum(axis=1))).T)\n",
    "    precision =(Conv_mat/Conv_mat.sum(axis=0))\n",
    "    \n",
    "    plt.figure(figsize=(20,4))\n",
    "    \n",
    "    labels = [0,1]\n",
    "    # representing A in heatmap format\n",
    "    cmap=sns.light_palette(\"#2ecc71\", as_cmap=True)\n",
    "    plt.subplot(1, 3, 1)\n",
    "    sns.heatmap(Conv_mat, annot=True, cmap=cmap, fmt=\".3f\", xticklabels=labels, yticklabels=labels)\n",
    "    plt.xlabel('Predicted Class')\n",
    "    plt.ylabel('Original Class')\n",
    "    plt.title(\"Confusion matrix\")\n",
    "    \n",
    "    plt.subplot(1, 3, 2)\n",
    "    # representing precision in heatmap format\n",
    "    sns.heatmap(precision, annot=True, cmap=cmap, fmt=\".3f\", xticklabels=labels, yticklabels=labels)\n",
    "    plt.xlabel('Predicted Class')\n",
    "    plt.ylabel('Original Class')\n",
    "    plt.title(\"Precision matrix\")\n",
    "    \n",
    "    plt.subplot(1, 3, 3)\n",
    "    # representing recall in heatmap format\n",
    "    sns.heatmap(recall, annot=True, cmap=cmap, fmt=\".3f\", xticklabels=labels, yticklabels=labels)\n",
    "    plt.xlabel('Predicted Class')\n",
    "    plt.ylabel('Original Class')\n",
    "    plt.title(\"Recall matrix\")\n",
    "    \n",
    "    plt.show()"
   ]
  },
  {
   "cell_type": "markdown",
   "metadata": {},
   "source": [
    "#### Creating our data and Splitting it to train and test"
   ]
  },
  {
   "cell_type": "code",
   "execution_count": 48,
   "metadata": {},
   "outputs": [
    {
     "name": "stdout",
     "output_type": "stream",
     "text": [
      "(40000, 6025)\n",
      "(40000,)\n"
     ]
    },
    {
     "data": {
      "text/plain": [
       "0    0\n",
       "1    0\n",
       "2    0\n",
       "3    1\n",
       "4    1\n",
       "Name: is_duplicate, dtype: int64"
      ]
     },
     "execution_count": 48,
     "metadata": {},
     "output_type": "execute_result"
    }
   ],
   "source": [
    "X = df_40k_ready.drop(['id','qid1','qid2','question1','question2','is_duplicate'], axis=1)\n",
    "y = df_40k_ready['is_duplicate']\n",
    "print (X.shape)\n",
    "print (y.shape)\n",
    "y.head()"
   ]
  },
  {
   "cell_type": "code",
   "execution_count": 49,
   "metadata": {},
   "outputs": [
    {
     "name": "stdout",
     "output_type": "stream",
     "text": [
      "Number of data points in train data : (32000, 6025)\n",
      "Number of data points in test data : (8000, 6025)\n"
     ]
    }
   ],
   "source": [
    "X_train,X_test, y_train, y_test = train_test_split(X, y, stratify=y, test_size=0.2)\n",
    "print(\"Number of data points in train data :\",X_train.shape)\n",
    "print(\"Number of data points in test data :\",X_test.shape)"
   ]
  },
  {
   "cell_type": "markdown",
   "metadata": {},
   "source": [
    "#### Logistic Regression"
   ]
  },
  {
   "cell_type": "code",
   "execution_count": 50,
   "metadata": {},
   "outputs": [
    {
     "name": "stdout",
     "output_type": "stream",
     "text": [
      "For values of C =  0.01 The log loss is: 0.5123193083995261\n",
      "For values of C =  0.1 The log loss is: 0.5143790668224567\n",
      "For values of C =  1 The log loss is: 0.5123885066853688\n",
      "For values of C =  10 The log loss is: 0.5125495748729642\n",
      "/nCell take 131.63785219192505\n"
     ]
    }
   ],
   "source": [
    "# start time \n",
    "start = time.time()\n",
    "\n",
    "# create hyperparameters list for C which is 1/lambda for regulaization \n",
    "c_params = [10 ** x for x in range(-2, 2)] # hyperparam for SGD classifier.\n",
    "# create a list to save the errors at.\n",
    "log_errors_list = []\n",
    "\n",
    "for c in c_params:\n",
    "    lr_clf = LogisticRegression(C=c)\n",
    "    lr_clf.fit(X_train,y_train)\n",
    "    y_predict = lr_clf.predict_proba(X_test)\n",
    "    log_loss_value = log_loss(y_test, y_predict, labels=lr_clf.classes_)\n",
    "    log_errors_list.append(log_loss_value)\n",
    "    print('For values of C = ', c, \"The log loss is:\",log_loss_value)\n",
    "\n",
    "#end time\n",
    "end = time.time()\n",
    "\n",
    "print(f'/nCell take {end-start}')"
   ]
  },
  {
   "cell_type": "markdown",
   "metadata": {},
   "source": [
    "Best value is for **C=1** which is the default, so let's use it and also **calibrate** our model"
   ]
  },
  {
   "cell_type": "code",
   "execution_count": 51,
   "metadata": {},
   "outputs": [
    {
     "name": "stdout",
     "output_type": "stream",
     "text": [
      "Log Loss value for our Logistic Regression Classifier in Train Data: 0.5138508788671391\n",
      "Log Loss value for our Logistic Regression Classifier in Test Data: 0.5111079231321173\n",
      "/nCell take 154.6206920146942 seconds\n"
     ]
    }
   ],
   "source": [
    "# start time \n",
    "start = time.time()\n",
    "\n",
    "# Initializing Classifier\n",
    "lr_clf = LogisticRegression()\n",
    "# Fitting the classifier\n",
    "lr_clf.fit(X_train,y_train)\n",
    "\n",
    "# Initializing the Calibration\n",
    "calibrated_clf = CalibratedClassifierCV(lr_clf)\n",
    "# Fitting the calibration\n",
    "calibrated_clf.fit(X_train,y_train)\n",
    "\n",
    "# Chech log loss from Training DataSet\n",
    "y_predict_train = calibrated_clf.predict_proba(X_train)\n",
    "log_loss_train = log_loss(y_train, y_predict_train, labels=lr_clf.classes_)\n",
    "print(\"Log Loss value for our Logistic Regression Classifier in Train Data:\",log_loss_train)\n",
    "\n",
    "# Chech log loss from Test DataSet\n",
    "y_predict_test = calibrated_clf.predict_proba(X_test)\n",
    "log_loss_test = log_loss(y_test, y_predict_test, labels=lr_clf.classes_)\n",
    "print(\"Log Loss value for our Logistic Regression Classifier in Test Data:\",log_loss_test)\n",
    "\n",
    "#end time\n",
    "end = time.time()\n",
    "\n",
    "print(f'/nCell take {end-start} seconds')"
   ]
  },
  {
   "cell_type": "markdown",
   "metadata": {},
   "source": [
    "So we are **not overfitting**, let's now find the accuracy score and plot the confusion matrix.\n",
    "* take into consideration that we are using only 40,000 row.\n",
    "* we will use other classifiers to compare between them."
   ]
  },
  {
   "cell_type": "code",
   "execution_count": 52,
   "metadata": {},
   "outputs": [
    {
     "name": "stdout",
     "output_type": "stream",
     "text": [
      "Accuracy score for Logistic Regression model is 0.722125\n"
     ]
    },
    {
     "data": {
      "image/png": "[encoded data removed]",
      "text/plain": [
       "<Figure size 1440x288 with 6 Axes>"
      ]
     },
     "metadata": {
      "needs_background": "light"
     },
     "output_type": "display_data"
    }
   ],
   "source": [
    "# Predicting the labels not the probabilites\n",
    "y_predict = calibrated_clf.predict(X_test)\n",
    "print(f\"Accuracy score for Logistic Regression model is {accuracy_score(y_test,y_predict)}\")\n",
    "plot_confusion_matrix(y_test,y_predict)"
   ]
  },
  {
   "cell_type": "markdown",
   "metadata": {},
   "source": [
    "For all plots we should work to make the **diagonal dark** and **off-diagonal light**"
   ]
  },
  {
   "cell_type": "markdown",
   "metadata": {},
   "source": [
    "#### Linear SVC"
   ]
  },
  {
   "cell_type": "code",
   "execution_count": 53,
   "metadata": {},
   "outputs": [
    {
     "name": "stdout",
     "output_type": "stream",
     "text": [
      "Model Fitted Successfully\n",
      "Calibration Done Successfully\n",
      "Log Loss value for our Linear Support Vector Classifier in Test Data: 0.49561343460844953\n",
      "Log Loss value for our Linear Support Vector Classifier in Test Data: 0.5005332011691245\n",
      "/nCell take 819.6480398178101 seconds\n"
     ]
    }
   ],
   "source": [
    "# I will use SGDClassifier with loss:hinge instead of SVC to reduce the time\n",
    "# start time \n",
    "start = time.time()\n",
    "\n",
    "# Initializing Classifier\n",
    "svc_clf = SGDClassifier(alpha=.0001, penalty='l1', loss='hinge', random_state=42) # you can try parameter tuning here also\n",
    "# Fitting the classifier\n",
    "svc_clf.fit(X_train,y_train)\n",
    "\n",
    "print ('Model Fitted Successfully')\n",
    "\n",
    "# Initializing the Calibration\n",
    "calibrated_svc_clf = CalibratedClassifierCV(svc_clf)\n",
    "# Fitting the calibration\n",
    "calibrated_svc_clf.fit(X_train,y_train)\n",
    "\n",
    "print ('Calibration Done Successfully')\n",
    "\n",
    "# Chech log loss from Training DataSet\n",
    "y_predict_train = calibrated_svc_clf.predict_proba(X_train)\n",
    "log_loss_train = log_loss(y_train, y_predict_train, labels=svc_clf.classes_)\n",
    "print(\"Log Loss value for our Linear Support Vector Classifier in Test Data:\",log_loss_train)\n",
    "\n",
    "# Chech log loss from Test DataSet\n",
    "y_predict_test = calibrated_svc_clf.predict_proba(X_test)\n",
    "log_loss_test = log_loss(y_test, y_predict_test, labels=svc_clf.classes_)\n",
    "print(\"Log Loss value for our Linear Support Vector Classifier in Test Data:\",log_loss_test)\n",
    "\n",
    "#end time\n",
    "end = time.time()\n",
    "\n",
    "print(f'\\nCell take {end-start} seconds')"
   ]
  },
  {
   "cell_type": "code",
   "execution_count": 54,
   "metadata": {},
   "outputs": [
    {
     "name": "stdout",
     "output_type": "stream",
     "text": [
      "Accuracy score for Logistic Regression model is 0.740125\n"
     ]
    },
    {
     "data": {
      "image/png": "[encoded data removed]",
      "text/plain": [
       "<Figure size 1440x288 with 6 Axes>"
      ]
     },
     "metadata": {
      "needs_background": "light"
     },
     "output_type": "display_data"
    }
   ],
   "source": [
    "# Predicting the labels not the probabilites\n",
    "y_predict = calibrated_svc_clf.predict(X_test)\n",
    "print(f\"Accuracy score for Logistic Regression model is {accuracy_score(y_test,y_predict)}\")\n",
    "plot_confusion_matrix(y_test,y_predict)"
   ]
  },
  {
   "cell_type": "markdown",
   "metadata": {},
   "source": [
    "#### Random Forest Classifier"
   ]
  },
  {
   "cell_type": "code",
   "execution_count": 55,
   "metadata": {},
   "outputs": [
    {
     "name": "stdout",
     "output_type": "stream",
     "text": [
      "Log Loss value for our Random Forest Classifier in Test Data: 0.11431377163004541\n",
      "Log Loss value for our Random Forest Vector Classifier in Test Data: 0.40554703910154266\n",
      "/nCell take 114.30980610847473 seconds\n"
     ]
    }
   ],
   "source": [
    "# start time \n",
    "start = time.time()\n",
    "\n",
    "# Initializing Classifier\n",
    "rf_clf = RandomForestClassifier() # you can try parameter tuning here also\n",
    "# Fitting the classifier\n",
    "rf_clf.fit(X_train,y_train)\n",
    "\n",
    "# Chech log loss from Training DataSet\n",
    "y_predict_train = rf_clf.predict_proba(X_train)\n",
    "log_loss_train = log_loss(y_train, y_predict_train, labels=rf_clf.classes_)\n",
    "print(\"Log Loss value for our Random Forest Classifier in Test Data:\",log_loss_train)\n",
    "\n",
    "# Chech log loss from Test DataSet\n",
    "y_predict_test = rf_clf.predict_proba(X_test)\n",
    "log_loss_test = log_loss(y_test, y_predict_test, labels=rf_clf.classes_)\n",
    "print(\"Log Loss value for our Random Forest Vector Classifier in Test Data:\",log_loss_test)\n",
    "\n",
    "#end time\n",
    "end = time.time()\n",
    "\n",
    "print(f'\\nCell take {end-start} seconds')"
   ]
  },
  {
   "cell_type": "code",
   "execution_count": 56,
   "metadata": {},
   "outputs": [
    {
     "name": "stdout",
     "output_type": "stream",
     "text": [
      "Accuracy score for Logistic Regression model is 0.7945\n"
     ]
    },
    {
     "data": {
      "image/png": "[encoded data removed]",
      "text/plain": [
       "<Figure size 1440x288 with 6 Axes>"
      ]
     },
     "metadata": {
      "needs_background": "light"
     },
     "output_type": "display_data"
    }
   ],
   "source": [
    "# Predicting the labels not the probabilites\n",
    "y_predict = rf_clf.predict(X_test)\n",
    "print(f\"Accuracy score for Logistic Regression model is {accuracy_score(y_test,y_predict)}\")\n",
    "plot_confusion_matrix(y_test,y_predict)"
   ]
  },
  {
   "cell_type": "markdown",
   "metadata": {},
   "source": [
    "#### XGBoost Classifier"
   ]
  },
  {
   "cell_type": "code",
   "execution_count": 57,
   "metadata": {
    "scrolled": true
   },
   "outputs": [
    {
     "name": "stdout",
     "output_type": "stream",
     "text": [
      "[0]\tvalidation_0-logloss:0.68607\tvalidation_1-logloss:0.68602\n",
      "[1]\tvalidation_0-logloss:0.67926\tvalidation_1-logloss:0.67916\n",
      "[2]\tvalidation_0-logloss:0.67272\tvalidation_1-logloss:0.67258\n",
      "[3]\tvalidation_0-logloss:0.66641\tvalidation_1-logloss:0.66622\n",
      "[4]\tvalidation_0-logloss:0.66027\tvalidation_1-logloss:0.66003\n",
      "[5]\tvalidation_0-logloss:0.65441\tvalidation_1-logloss:0.65417\n",
      "[6]\tvalidation_0-logloss:0.64869\tvalidation_1-logloss:0.64841\n",
      "[7]\tvalidation_0-logloss:0.64317\tvalidation_1-logloss:0.64289\n",
      "[8]\tvalidation_0-logloss:0.63786\tvalidation_1-logloss:0.63752\n",
      "[9]\tvalidation_0-logloss:0.63276\tvalidation_1-logloss:0.63243\n",
      "[10]\tvalidation_0-logloss:0.62779\tvalidation_1-logloss:0.62745\n",
      "[11]\tvalidation_0-logloss:0.62299\tvalidation_1-logloss:0.62264\n",
      "[12]\tvalidation_0-logloss:0.61837\tvalidation_1-logloss:0.61801\n",
      "[13]\tvalidation_0-logloss:0.61387\tvalidation_1-logloss:0.61352\n",
      "[14]\tvalidation_0-logloss:0.60951\tvalidation_1-logloss:0.60918\n",
      "[15]\tvalidation_0-logloss:0.60531\tvalidation_1-logloss:0.60499\n",
      "[16]\tvalidation_0-logloss:0.60124\tvalidation_1-logloss:0.60091\n",
      "[17]\tvalidation_0-logloss:0.59730\tvalidation_1-logloss:0.59697\n",
      "[18]\tvalidation_0-logloss:0.59346\tvalidation_1-logloss:0.59316\n",
      "[19]\tvalidation_0-logloss:0.58974\tvalidation_1-logloss:0.58942\n",
      "[20]\tvalidation_0-logloss:0.58612\tvalidation_1-logloss:0.58583\n",
      "[21]\tvalidation_0-logloss:0.58262\tvalidation_1-logloss:0.58235\n",
      "[22]\tvalidation_0-logloss:0.57912\tvalidation_1-logloss:0.57885\n",
      "[23]\tvalidation_0-logloss:0.57581\tvalidation_1-logloss:0.57555\n",
      "[24]\tvalidation_0-logloss:0.57261\tvalidation_1-logloss:0.57234\n",
      "[25]\tvalidation_0-logloss:0.56940\tvalidation_1-logloss:0.56916\n",
      "[26]\tvalidation_0-logloss:0.56632\tvalidation_1-logloss:0.56611\n",
      "[27]\tvalidation_0-logloss:0.56334\tvalidation_1-logloss:0.56317\n",
      "[28]\tvalidation_0-logloss:0.56039\tvalidation_1-logloss:0.56020\n",
      "[29]\tvalidation_0-logloss:0.55755\tvalidation_1-logloss:0.55739\n",
      "[30]\tvalidation_0-logloss:0.55483\tvalidation_1-logloss:0.55467\n",
      "[31]\tvalidation_0-logloss:0.55204\tvalidation_1-logloss:0.55184\n",
      "[32]\tvalidation_0-logloss:0.54942\tvalidation_1-logloss:0.54925\n",
      "[33]\tvalidation_0-logloss:0.54689\tvalidation_1-logloss:0.54674\n",
      "[34]\tvalidation_0-logloss:0.54441\tvalidation_1-logloss:0.54431\n",
      "[35]\tvalidation_0-logloss:0.54189\tvalidation_1-logloss:0.54177\n",
      "[36]\tvalidation_0-logloss:0.53949\tvalidation_1-logloss:0.53942\n",
      "[37]\tvalidation_0-logloss:0.53719\tvalidation_1-logloss:0.53717\n",
      "[38]\tvalidation_0-logloss:0.53492\tvalidation_1-logloss:0.53497\n",
      "[39]\tvalidation_0-logloss:0.53260\tvalidation_1-logloss:0.53264\n",
      "[40]\tvalidation_0-logloss:0.53046\tvalidation_1-logloss:0.53056\n",
      "[41]\tvalidation_0-logloss:0.52835\tvalidation_1-logloss:0.52849\n",
      "[42]\tvalidation_0-logloss:0.52623\tvalidation_1-logloss:0.52634\n",
      "[43]\tvalidation_0-logloss:0.52422\tvalidation_1-logloss:0.52439\n",
      "[44]\tvalidation_0-logloss:0.52216\tvalidation_1-logloss:0.52237\n",
      "[45]\tvalidation_0-logloss:0.52027\tvalidation_1-logloss:0.52053\n",
      "[46]\tvalidation_0-logloss:0.51831\tvalidation_1-logloss:0.51859\n",
      "[47]\tvalidation_0-logloss:0.51641\tvalidation_1-logloss:0.51670\n",
      "[48]\tvalidation_0-logloss:0.51465\tvalidation_1-logloss:0.51494\n",
      "[49]\tvalidation_0-logloss:0.51283\tvalidation_1-logloss:0.51316\n",
      "[50]\tvalidation_0-logloss:0.51114\tvalidation_1-logloss:0.51153\n",
      "[51]\tvalidation_0-logloss:0.50942\tvalidation_1-logloss:0.50980\n",
      "[52]\tvalidation_0-logloss:0.50783\tvalidation_1-logloss:0.50822\n",
      "[53]\tvalidation_0-logloss:0.50627\tvalidation_1-logloss:0.50665\n",
      "[54]\tvalidation_0-logloss:0.50465\tvalidation_1-logloss:0.50504\n",
      "[55]\tvalidation_0-logloss:0.50315\tvalidation_1-logloss:0.50356\n",
      "[56]\tvalidation_0-logloss:0.50169\tvalidation_1-logloss:0.50212\n",
      "[57]\tvalidation_0-logloss:0.50011\tvalidation_1-logloss:0.50054\n",
      "[58]\tvalidation_0-logloss:0.49872\tvalidation_1-logloss:0.49917\n",
      "[59]\tvalidation_0-logloss:0.49736\tvalidation_1-logloss:0.49780\n",
      "[60]\tvalidation_0-logloss:0.49588\tvalidation_1-logloss:0.49634\n",
      "[61]\tvalidation_0-logloss:0.49444\tvalidation_1-logloss:0.49498\n",
      "[62]\tvalidation_0-logloss:0.49305\tvalidation_1-logloss:0.49364\n",
      "[63]\tvalidation_0-logloss:0.49177\tvalidation_1-logloss:0.49240\n",
      "[64]\tvalidation_0-logloss:0.49055\tvalidation_1-logloss:0.49119\n",
      "[65]\tvalidation_0-logloss:0.48921\tvalidation_1-logloss:0.48989\n",
      "[66]\tvalidation_0-logloss:0.48802\tvalidation_1-logloss:0.48872\n",
      "[67]\tvalidation_0-logloss:0.48676\tvalidation_1-logloss:0.48750\n",
      "[68]\tvalidation_0-logloss:0.48565\tvalidation_1-logloss:0.48638\n",
      "[69]\tvalidation_0-logloss:0.48447\tvalidation_1-logloss:0.48524\n",
      "[70]\tvalidation_0-logloss:0.48328\tvalidation_1-logloss:0.48413\n",
      "[71]\tvalidation_0-logloss:0.48222\tvalidation_1-logloss:0.48306\n",
      "[72]\tvalidation_0-logloss:0.48107\tvalidation_1-logloss:0.48197\n",
      "[73]\tvalidation_0-logloss:0.47997\tvalidation_1-logloss:0.48090\n",
      "[74]\tvalidation_0-logloss:0.47899\tvalidation_1-logloss:0.47991\n",
      "[75]\tvalidation_0-logloss:0.47796\tvalidation_1-logloss:0.47891\n",
      "[76]\tvalidation_0-logloss:0.47694\tvalidation_1-logloss:0.47797\n",
      "[77]\tvalidation_0-logloss:0.47600\tvalidation_1-logloss:0.47702\n",
      "[78]\tvalidation_0-logloss:0.47502\tvalidation_1-logloss:0.47610\n",
      "[79]\tvalidation_0-logloss:0.47402\tvalidation_1-logloss:0.47514\n",
      "[80]\tvalidation_0-logloss:0.47309\tvalidation_1-logloss:0.47424\n",
      "[81]\tvalidation_0-logloss:0.47217\tvalidation_1-logloss:0.47339\n",
      "[82]\tvalidation_0-logloss:0.47126\tvalidation_1-logloss:0.47254\n",
      "[83]\tvalidation_0-logloss:0.47043\tvalidation_1-logloss:0.47171\n",
      "[84]\tvalidation_0-logloss:0.46957\tvalidation_1-logloss:0.47090\n",
      "[85]\tvalidation_0-logloss:0.46872\tvalidation_1-logloss:0.47009\n",
      "[86]\tvalidation_0-logloss:0.46787\tvalidation_1-logloss:0.46932\n",
      "[87]\tvalidation_0-logloss:0.46706\tvalidation_1-logloss:0.46855\n",
      "[88]\tvalidation_0-logloss:0.46622\tvalidation_1-logloss:0.46773\n",
      "[89]\tvalidation_0-logloss:0.46537\tvalidation_1-logloss:0.46693\n",
      "[90]\tvalidation_0-logloss:0.46465\tvalidation_1-logloss:0.46623\n",
      "[91]\tvalidation_0-logloss:0.46389\tvalidation_1-logloss:0.46553\n",
      "[92]\tvalidation_0-logloss:0.46308\tvalidation_1-logloss:0.46478\n",
      "[93]\tvalidation_0-logloss:0.46233\tvalidation_1-logloss:0.46407\n",
      "[94]\tvalidation_0-logloss:0.46162\tvalidation_1-logloss:0.46339\n",
      "[95]\tvalidation_0-logloss:0.46084\tvalidation_1-logloss:0.46268\n",
      "[96]\tvalidation_0-logloss:0.46014\tvalidation_1-logloss:0.46201\n",
      "[97]\tvalidation_0-logloss:0.45942\tvalidation_1-logloss:0.46131\n",
      "[98]\tvalidation_0-logloss:0.45876\tvalidation_1-logloss:0.46069\n",
      "[99]\tvalidation_0-logloss:0.45802\tvalidation_1-logloss:0.45999\n",
      "[100]\tvalidation_0-logloss:0.45738\tvalidation_1-logloss:0.45938\n",
      "[101]\tvalidation_0-logloss:0.45671\tvalidation_1-logloss:0.45873\n",
      "[102]\tvalidation_0-logloss:0.45608\tvalidation_1-logloss:0.45816\n",
      "[103]\tvalidation_0-logloss:0.45546\tvalidation_1-logloss:0.45760\n",
      "[104]\tvalidation_0-logloss:0.45486\tvalidation_1-logloss:0.45705\n",
      "[105]\tvalidation_0-logloss:0.45424\tvalidation_1-logloss:0.45644\n",
      "[106]\tvalidation_0-logloss:0.45362\tvalidation_1-logloss:0.45586\n",
      "[107]\tvalidation_0-logloss:0.45302\tvalidation_1-logloss:0.45528\n",
      "[108]\tvalidation_0-logloss:0.45245\tvalidation_1-logloss:0.45477\n",
      "[109]\tvalidation_0-logloss:0.45189\tvalidation_1-logloss:0.45425\n",
      "[110]\tvalidation_0-logloss:0.45130\tvalidation_1-logloss:0.45368\n",
      "[111]\tvalidation_0-logloss:0.45074\tvalidation_1-logloss:0.45317\n",
      "[112]\tvalidation_0-logloss:0.45023\tvalidation_1-logloss:0.45271\n",
      "[113]\tvalidation_0-logloss:0.44965\tvalidation_1-logloss:0.45214\n",
      "[114]\tvalidation_0-logloss:0.44908\tvalidation_1-logloss:0.45164\n",
      "[115]\tvalidation_0-logloss:0.44857\tvalidation_1-logloss:0.45116\n",
      "[116]\tvalidation_0-logloss:0.44806\tvalidation_1-logloss:0.45067\n",
      "[117]\tvalidation_0-logloss:0.44762\tvalidation_1-logloss:0.45029\n",
      "[118]\tvalidation_0-logloss:0.44712\tvalidation_1-logloss:0.44984\n",
      "[119]\tvalidation_0-logloss:0.44666\tvalidation_1-logloss:0.44944\n",
      "[120]\tvalidation_0-logloss:0.44625\tvalidation_1-logloss:0.44908\n",
      "[121]\tvalidation_0-logloss:0.44574\tvalidation_1-logloss:0.44862\n",
      "[122]\tvalidation_0-logloss:0.44534\tvalidation_1-logloss:0.44824\n",
      "[123]\tvalidation_0-logloss:0.44490\tvalidation_1-logloss:0.44785\n",
      "[124]\tvalidation_0-logloss:0.44443\tvalidation_1-logloss:0.44742\n",
      "[125]\tvalidation_0-logloss:0.44400\tvalidation_1-logloss:0.44703\n",
      "[126]\tvalidation_0-logloss:0.44361\tvalidation_1-logloss:0.44667\n",
      "[127]\tvalidation_0-logloss:0.44322\tvalidation_1-logloss:0.44632\n",
      "[128]\tvalidation_0-logloss:0.44278\tvalidation_1-logloss:0.44592\n",
      "[129]\tvalidation_0-logloss:0.44237\tvalidation_1-logloss:0.44554\n"
     ]
    },
    {
     "name": "stdout",
     "output_type": "stream",
     "text": [
      "[130]\tvalidation_0-logloss:0.44194\tvalidation_1-logloss:0.44514\n",
      "[131]\tvalidation_0-logloss:0.44155\tvalidation_1-logloss:0.44478\n",
      "[132]\tvalidation_0-logloss:0.44113\tvalidation_1-logloss:0.44437\n",
      "[133]\tvalidation_0-logloss:0.44068\tvalidation_1-logloss:0.44396\n",
      "[134]\tvalidation_0-logloss:0.44030\tvalidation_1-logloss:0.44362\n",
      "[135]\tvalidation_0-logloss:0.43993\tvalidation_1-logloss:0.44325\n",
      "[136]\tvalidation_0-logloss:0.43961\tvalidation_1-logloss:0.44298\n",
      "[137]\tvalidation_0-logloss:0.43925\tvalidation_1-logloss:0.44263\n",
      "[138]\tvalidation_0-logloss:0.43891\tvalidation_1-logloss:0.44233\n",
      "[139]\tvalidation_0-logloss:0.43853\tvalidation_1-logloss:0.44200\n",
      "[140]\tvalidation_0-logloss:0.43815\tvalidation_1-logloss:0.44166\n",
      "[141]\tvalidation_0-logloss:0.43784\tvalidation_1-logloss:0.44136\n",
      "[142]\tvalidation_0-logloss:0.43750\tvalidation_1-logloss:0.44106\n",
      "[143]\tvalidation_0-logloss:0.43720\tvalidation_1-logloss:0.44079\n",
      "[144]\tvalidation_0-logloss:0.43687\tvalidation_1-logloss:0.44052\n",
      "[145]\tvalidation_0-logloss:0.43657\tvalidation_1-logloss:0.44025\n",
      "[146]\tvalidation_0-logloss:0.43617\tvalidation_1-logloss:0.43986\n",
      "[147]\tvalidation_0-logloss:0.43590\tvalidation_1-logloss:0.43964\n",
      "[148]\tvalidation_0-logloss:0.43557\tvalidation_1-logloss:0.43935\n",
      "[149]\tvalidation_0-logloss:0.43531\tvalidation_1-logloss:0.43910\n",
      "[150]\tvalidation_0-logloss:0.43497\tvalidation_1-logloss:0.43882\n",
      "[151]\tvalidation_0-logloss:0.43470\tvalidation_1-logloss:0.43861\n",
      "[152]\tvalidation_0-logloss:0.43441\tvalidation_1-logloss:0.43837\n",
      "[153]\tvalidation_0-logloss:0.43416\tvalidation_1-logloss:0.43817\n",
      "[154]\tvalidation_0-logloss:0.43383\tvalidation_1-logloss:0.43789\n",
      "[155]\tvalidation_0-logloss:0.43351\tvalidation_1-logloss:0.43762\n",
      "[156]\tvalidation_0-logloss:0.43325\tvalidation_1-logloss:0.43738\n",
      "[157]\tvalidation_0-logloss:0.43291\tvalidation_1-logloss:0.43704\n",
      "[158]\tvalidation_0-logloss:0.43261\tvalidation_1-logloss:0.43681\n",
      "[159]\tvalidation_0-logloss:0.43234\tvalidation_1-logloss:0.43657\n",
      "[160]\tvalidation_0-logloss:0.43202\tvalidation_1-logloss:0.43627\n",
      "[161]\tvalidation_0-logloss:0.43177\tvalidation_1-logloss:0.43606\n",
      "[162]\tvalidation_0-logloss:0.43155\tvalidation_1-logloss:0.43589\n",
      "[163]\tvalidation_0-logloss:0.43130\tvalidation_1-logloss:0.43566\n",
      "[164]\tvalidation_0-logloss:0.43108\tvalidation_1-logloss:0.43547\n",
      "[165]\tvalidation_0-logloss:0.43086\tvalidation_1-logloss:0.43528\n",
      "[166]\tvalidation_0-logloss:0.43063\tvalidation_1-logloss:0.43507\n",
      "[167]\tvalidation_0-logloss:0.43039\tvalidation_1-logloss:0.43485\n",
      "[168]\tvalidation_0-logloss:0.43016\tvalidation_1-logloss:0.43468\n",
      "[169]\tvalidation_0-logloss:0.42995\tvalidation_1-logloss:0.43451\n",
      "[170]\tvalidation_0-logloss:0.42974\tvalidation_1-logloss:0.43432\n",
      "[171]\tvalidation_0-logloss:0.42945\tvalidation_1-logloss:0.43403\n",
      "[172]\tvalidation_0-logloss:0.42925\tvalidation_1-logloss:0.43384\n",
      "[173]\tvalidation_0-logloss:0.42905\tvalidation_1-logloss:0.43369\n",
      "[174]\tvalidation_0-logloss:0.42878\tvalidation_1-logloss:0.43347\n",
      "[175]\tvalidation_0-logloss:0.42858\tvalidation_1-logloss:0.43332\n",
      "[176]\tvalidation_0-logloss:0.42835\tvalidation_1-logloss:0.43311\n",
      "[177]\tvalidation_0-logloss:0.42815\tvalidation_1-logloss:0.43294\n",
      "[178]\tvalidation_0-logloss:0.42796\tvalidation_1-logloss:0.43278\n",
      "[179]\tvalidation_0-logloss:0.42775\tvalidation_1-logloss:0.43261\n",
      "[180]\tvalidation_0-logloss:0.42757\tvalidation_1-logloss:0.43246\n",
      "[181]\tvalidation_0-logloss:0.42738\tvalidation_1-logloss:0.43232\n",
      "[182]\tvalidation_0-logloss:0.42720\tvalidation_1-logloss:0.43217\n",
      "[183]\tvalidation_0-logloss:0.42701\tvalidation_1-logloss:0.43200\n",
      "[184]\tvalidation_0-logloss:0.42682\tvalidation_1-logloss:0.43186\n",
      "[185]\tvalidation_0-logloss:0.42650\tvalidation_1-logloss:0.43160\n",
      "[186]\tvalidation_0-logloss:0.42629\tvalidation_1-logloss:0.43142\n",
      "[187]\tvalidation_0-logloss:0.42614\tvalidation_1-logloss:0.43126\n",
      "[188]\tvalidation_0-logloss:0.42595\tvalidation_1-logloss:0.43114\n",
      "[189]\tvalidation_0-logloss:0.42577\tvalidation_1-logloss:0.43100\n",
      "[190]\tvalidation_0-logloss:0.42560\tvalidation_1-logloss:0.43088\n",
      "[191]\tvalidation_0-logloss:0.42542\tvalidation_1-logloss:0.43073\n",
      "[192]\tvalidation_0-logloss:0.42519\tvalidation_1-logloss:0.43053\n",
      "[193]\tvalidation_0-logloss:0.42500\tvalidation_1-logloss:0.43038\n",
      "[194]\tvalidation_0-logloss:0.42483\tvalidation_1-logloss:0.43026\n",
      "[195]\tvalidation_0-logloss:0.42466\tvalidation_1-logloss:0.43013\n",
      "[196]\tvalidation_0-logloss:0.42448\tvalidation_1-logloss:0.42998\n",
      "[197]\tvalidation_0-logloss:0.42431\tvalidation_1-logloss:0.42982\n",
      "[198]\tvalidation_0-logloss:0.42414\tvalidation_1-logloss:0.42970\n",
      "[199]\tvalidation_0-logloss:0.42398\tvalidation_1-logloss:0.42954\n",
      "[200]\tvalidation_0-logloss:0.42366\tvalidation_1-logloss:0.42927\n",
      "[201]\tvalidation_0-logloss:0.42352\tvalidation_1-logloss:0.42914\n",
      "[202]\tvalidation_0-logloss:0.42336\tvalidation_1-logloss:0.42902\n",
      "[203]\tvalidation_0-logloss:0.42322\tvalidation_1-logloss:0.42894\n",
      "[204]\tvalidation_0-logloss:0.42291\tvalidation_1-logloss:0.42865\n",
      "[205]\tvalidation_0-logloss:0.42273\tvalidation_1-logloss:0.42852\n",
      "[206]\tvalidation_0-logloss:0.42255\tvalidation_1-logloss:0.42836\n",
      "[207]\tvalidation_0-logloss:0.42239\tvalidation_1-logloss:0.42825\n",
      "[208]\tvalidation_0-logloss:0.42225\tvalidation_1-logloss:0.42814\n",
      "[209]\tvalidation_0-logloss:0.42213\tvalidation_1-logloss:0.42804\n",
      "[210]\tvalidation_0-logloss:0.42198\tvalidation_1-logloss:0.42793\n",
      "[211]\tvalidation_0-logloss:0.42179\tvalidation_1-logloss:0.42775\n",
      "[212]\tvalidation_0-logloss:0.42164\tvalidation_1-logloss:0.42762\n",
      "[213]\tvalidation_0-logloss:0.42150\tvalidation_1-logloss:0.42751\n",
      "[214]\tvalidation_0-logloss:0.42137\tvalidation_1-logloss:0.42739\n",
      "[215]\tvalidation_0-logloss:0.42112\tvalidation_1-logloss:0.42719\n",
      "[216]\tvalidation_0-logloss:0.42100\tvalidation_1-logloss:0.42708\n",
      "[217]\tvalidation_0-logloss:0.42085\tvalidation_1-logloss:0.42698\n",
      "[218]\tvalidation_0-logloss:0.42074\tvalidation_1-logloss:0.42689\n",
      "[219]\tvalidation_0-logloss:0.42045\tvalidation_1-logloss:0.42665\n",
      "[220]\tvalidation_0-logloss:0.42027\tvalidation_1-logloss:0.42649\n",
      "[221]\tvalidation_0-logloss:0.42010\tvalidation_1-logloss:0.42636\n",
      "[222]\tvalidation_0-logloss:0.41997\tvalidation_1-logloss:0.42627\n",
      "[223]\tvalidation_0-logloss:0.41982\tvalidation_1-logloss:0.42617\n",
      "[224]\tvalidation_0-logloss:0.41968\tvalidation_1-logloss:0.42606\n",
      "[225]\tvalidation_0-logloss:0.41957\tvalidation_1-logloss:0.42596\n",
      "[226]\tvalidation_0-logloss:0.41941\tvalidation_1-logloss:0.42583\n",
      "[227]\tvalidation_0-logloss:0.41926\tvalidation_1-logloss:0.42570\n",
      "[228]\tvalidation_0-logloss:0.41899\tvalidation_1-logloss:0.42546\n",
      "[229]\tvalidation_0-logloss:0.41885\tvalidation_1-logloss:0.42538\n",
      "[230]\tvalidation_0-logloss:0.41874\tvalidation_1-logloss:0.42528\n",
      "[231]\tvalidation_0-logloss:0.41857\tvalidation_1-logloss:0.42518\n",
      "[232]\tvalidation_0-logloss:0.41847\tvalidation_1-logloss:0.42507\n",
      "[233]\tvalidation_0-logloss:0.41831\tvalidation_1-logloss:0.42496\n",
      "[234]\tvalidation_0-logloss:0.41817\tvalidation_1-logloss:0.42484\n",
      "[235]\tvalidation_0-logloss:0.41794\tvalidation_1-logloss:0.42467\n",
      "[236]\tvalidation_0-logloss:0.41761\tvalidation_1-logloss:0.42439\n",
      "[237]\tvalidation_0-logloss:0.41745\tvalidation_1-logloss:0.42428\n",
      "[238]\tvalidation_0-logloss:0.41735\tvalidation_1-logloss:0.42420\n",
      "[239]\tvalidation_0-logloss:0.41719\tvalidation_1-logloss:0.42405\n",
      "[240]\tvalidation_0-logloss:0.41685\tvalidation_1-logloss:0.42379\n",
      "[241]\tvalidation_0-logloss:0.41655\tvalidation_1-logloss:0.42353\n",
      "[242]\tvalidation_0-logloss:0.41646\tvalidation_1-logloss:0.42347\n",
      "[243]\tvalidation_0-logloss:0.41634\tvalidation_1-logloss:0.42338\n",
      "[244]\tvalidation_0-logloss:0.41620\tvalidation_1-logloss:0.42328\n",
      "[245]\tvalidation_0-logloss:0.41600\tvalidation_1-logloss:0.42313\n",
      "[246]\tvalidation_0-logloss:0.41589\tvalidation_1-logloss:0.42302\n",
      "[247]\tvalidation_0-logloss:0.41562\tvalidation_1-logloss:0.42279\n",
      "[248]\tvalidation_0-logloss:0.41547\tvalidation_1-logloss:0.42267\n",
      "[249]\tvalidation_0-logloss:0.41531\tvalidation_1-logloss:0.42253\n",
      "[250]\tvalidation_0-logloss:0.41512\tvalidation_1-logloss:0.42241\n",
      "[251]\tvalidation_0-logloss:0.41498\tvalidation_1-logloss:0.42232\n",
      "[252]\tvalidation_0-logloss:0.41486\tvalidation_1-logloss:0.42223\n",
      "[253]\tvalidation_0-logloss:0.41474\tvalidation_1-logloss:0.42215\n",
      "[254]\tvalidation_0-logloss:0.41465\tvalidation_1-logloss:0.42209\n",
      "[255]\tvalidation_0-logloss:0.41446\tvalidation_1-logloss:0.42196\n",
      "[256]\tvalidation_0-logloss:0.41434\tvalidation_1-logloss:0.42186\n",
      "[257]\tvalidation_0-logloss:0.41425\tvalidation_1-logloss:0.42180\n",
      "[258]\tvalidation_0-logloss:0.41413\tvalidation_1-logloss:0.42172\n"
     ]
    },
    {
     "name": "stdout",
     "output_type": "stream",
     "text": [
      "[259]\tvalidation_0-logloss:0.41398\tvalidation_1-logloss:0.42159\n",
      "[260]\tvalidation_0-logloss:0.41384\tvalidation_1-logloss:0.42150\n",
      "[261]\tvalidation_0-logloss:0.41374\tvalidation_1-logloss:0.42140\n",
      "[262]\tvalidation_0-logloss:0.41365\tvalidation_1-logloss:0.42135\n",
      "[263]\tvalidation_0-logloss:0.41349\tvalidation_1-logloss:0.42121\n",
      "[264]\tvalidation_0-logloss:0.41337\tvalidation_1-logloss:0.42115\n",
      "[265]\tvalidation_0-logloss:0.41322\tvalidation_1-logloss:0.42108\n",
      "[266]\tvalidation_0-logloss:0.41313\tvalidation_1-logloss:0.42103\n",
      "[267]\tvalidation_0-logloss:0.41301\tvalidation_1-logloss:0.42093\n",
      "[268]\tvalidation_0-logloss:0.41286\tvalidation_1-logloss:0.42083\n",
      "[269]\tvalidation_0-logloss:0.41268\tvalidation_1-logloss:0.42070\n",
      "[270]\tvalidation_0-logloss:0.41257\tvalidation_1-logloss:0.42065\n",
      "[271]\tvalidation_0-logloss:0.41243\tvalidation_1-logloss:0.42052\n",
      "[272]\tvalidation_0-logloss:0.41233\tvalidation_1-logloss:0.42045\n",
      "[273]\tvalidation_0-logloss:0.41225\tvalidation_1-logloss:0.42038\n",
      "[274]\tvalidation_0-logloss:0.41216\tvalidation_1-logloss:0.42035\n",
      "[275]\tvalidation_0-logloss:0.41197\tvalidation_1-logloss:0.42022\n",
      "[276]\tvalidation_0-logloss:0.41186\tvalidation_1-logloss:0.42014\n",
      "[277]\tvalidation_0-logloss:0.41175\tvalidation_1-logloss:0.42006\n",
      "[278]\tvalidation_0-logloss:0.41161\tvalidation_1-logloss:0.41997\n",
      "[279]\tvalidation_0-logloss:0.41150\tvalidation_1-logloss:0.41993\n",
      "[280]\tvalidation_0-logloss:0.41141\tvalidation_1-logloss:0.41988\n",
      "[281]\tvalidation_0-logloss:0.41132\tvalidation_1-logloss:0.41983\n",
      "[282]\tvalidation_0-logloss:0.41115\tvalidation_1-logloss:0.41971\n",
      "[283]\tvalidation_0-logloss:0.41106\tvalidation_1-logloss:0.41968\n",
      "[284]\tvalidation_0-logloss:0.41091\tvalidation_1-logloss:0.41958\n",
      "[285]\tvalidation_0-logloss:0.41079\tvalidation_1-logloss:0.41949\n",
      "[286]\tvalidation_0-logloss:0.41070\tvalidation_1-logloss:0.41944\n",
      "[287]\tvalidation_0-logloss:0.41060\tvalidation_1-logloss:0.41938\n",
      "[288]\tvalidation_0-logloss:0.41049\tvalidation_1-logloss:0.41929\n",
      "[289]\tvalidation_0-logloss:0.41036\tvalidation_1-logloss:0.41918\n",
      "[290]\tvalidation_0-logloss:0.41025\tvalidation_1-logloss:0.41915\n",
      "[291]\tvalidation_0-logloss:0.41015\tvalidation_1-logloss:0.41907\n",
      "[292]\tvalidation_0-logloss:0.41006\tvalidation_1-logloss:0.41903\n",
      "[293]\tvalidation_0-logloss:0.40999\tvalidation_1-logloss:0.41897\n",
      "[294]\tvalidation_0-logloss:0.40985\tvalidation_1-logloss:0.41891\n",
      "[295]\tvalidation_0-logloss:0.40973\tvalidation_1-logloss:0.41883\n",
      "[296]\tvalidation_0-logloss:0.40963\tvalidation_1-logloss:0.41879\n",
      "[297]\tvalidation_0-logloss:0.40955\tvalidation_1-logloss:0.41876\n",
      "[298]\tvalidation_0-logloss:0.40944\tvalidation_1-logloss:0.41867\n",
      "[299]\tvalidation_0-logloss:0.40934\tvalidation_1-logloss:0.41858\n",
      "[300]\tvalidation_0-logloss:0.40926\tvalidation_1-logloss:0.41855\n",
      "[301]\tvalidation_0-logloss:0.40918\tvalidation_1-logloss:0.41851\n",
      "[302]\tvalidation_0-logloss:0.40901\tvalidation_1-logloss:0.41840\n",
      "[303]\tvalidation_0-logloss:0.40886\tvalidation_1-logloss:0.41826\n",
      "[304]\tvalidation_0-logloss:0.40876\tvalidation_1-logloss:0.41821\n",
      "[305]\tvalidation_0-logloss:0.40864\tvalidation_1-logloss:0.41815\n",
      "[306]\tvalidation_0-logloss:0.40855\tvalidation_1-logloss:0.41812\n",
      "[307]\tvalidation_0-logloss:0.40849\tvalidation_1-logloss:0.41806\n",
      "[308]\tvalidation_0-logloss:0.40837\tvalidation_1-logloss:0.41801\n",
      "[309]\tvalidation_0-logloss:0.40827\tvalidation_1-logloss:0.41795\n",
      "[310]\tvalidation_0-logloss:0.40819\tvalidation_1-logloss:0.41791\n",
      "[311]\tvalidation_0-logloss:0.40812\tvalidation_1-logloss:0.41784\n",
      "[312]\tvalidation_0-logloss:0.40804\tvalidation_1-logloss:0.41783\n",
      "[313]\tvalidation_0-logloss:0.40787\tvalidation_1-logloss:0.41772\n",
      "[314]\tvalidation_0-logloss:0.40776\tvalidation_1-logloss:0.41765\n",
      "[315]\tvalidation_0-logloss:0.40766\tvalidation_1-logloss:0.41758\n",
      "[316]\tvalidation_0-logloss:0.40750\tvalidation_1-logloss:0.41746\n",
      "[317]\tvalidation_0-logloss:0.40738\tvalidation_1-logloss:0.41735\n",
      "[318]\tvalidation_0-logloss:0.40728\tvalidation_1-logloss:0.41728\n",
      "[319]\tvalidation_0-logloss:0.40719\tvalidation_1-logloss:0.41725\n",
      "[320]\tvalidation_0-logloss:0.40711\tvalidation_1-logloss:0.41720\n",
      "[321]\tvalidation_0-logloss:0.40702\tvalidation_1-logloss:0.41713\n",
      "[322]\tvalidation_0-logloss:0.40694\tvalidation_1-logloss:0.41710\n",
      "[323]\tvalidation_0-logloss:0.40686\tvalidation_1-logloss:0.41703\n",
      "[324]\tvalidation_0-logloss:0.40675\tvalidation_1-logloss:0.41695\n",
      "[325]\tvalidation_0-logloss:0.40667\tvalidation_1-logloss:0.41688\n",
      "[326]\tvalidation_0-logloss:0.40659\tvalidation_1-logloss:0.41685\n",
      "[327]\tvalidation_0-logloss:0.40644\tvalidation_1-logloss:0.41674\n",
      "[328]\tvalidation_0-logloss:0.40636\tvalidation_1-logloss:0.41668\n",
      "[329]\tvalidation_0-logloss:0.40626\tvalidation_1-logloss:0.41666\n",
      "[330]\tvalidation_0-logloss:0.40609\tvalidation_1-logloss:0.41655\n",
      "[331]\tvalidation_0-logloss:0.40601\tvalidation_1-logloss:0.41651\n",
      "[332]\tvalidation_0-logloss:0.40593\tvalidation_1-logloss:0.41646\n",
      "[333]\tvalidation_0-logloss:0.40582\tvalidation_1-logloss:0.41638\n",
      "[334]\tvalidation_0-logloss:0.40574\tvalidation_1-logloss:0.41631\n",
      "[335]\tvalidation_0-logloss:0.40560\tvalidation_1-logloss:0.41621\n",
      "[336]\tvalidation_0-logloss:0.40552\tvalidation_1-logloss:0.41618\n",
      "[337]\tvalidation_0-logloss:0.40545\tvalidation_1-logloss:0.41615\n",
      "[338]\tvalidation_0-logloss:0.40536\tvalidation_1-logloss:0.41607\n",
      "[339]\tvalidation_0-logloss:0.40526\tvalidation_1-logloss:0.41603\n",
      "[340]\tvalidation_0-logloss:0.40515\tvalidation_1-logloss:0.41593\n",
      "[341]\tvalidation_0-logloss:0.40506\tvalidation_1-logloss:0.41590\n",
      "[342]\tvalidation_0-logloss:0.40499\tvalidation_1-logloss:0.41588\n",
      "[343]\tvalidation_0-logloss:0.40490\tvalidation_1-logloss:0.41586\n",
      "[344]\tvalidation_0-logloss:0.40475\tvalidation_1-logloss:0.41572\n",
      "[345]\tvalidation_0-logloss:0.40468\tvalidation_1-logloss:0.41569\n",
      "[346]\tvalidation_0-logloss:0.40457\tvalidation_1-logloss:0.41562\n",
      "[347]\tvalidation_0-logloss:0.40444\tvalidation_1-logloss:0.41554\n",
      "[348]\tvalidation_0-logloss:0.40436\tvalidation_1-logloss:0.41547\n",
      "[349]\tvalidation_0-logloss:0.40430\tvalidation_1-logloss:0.41542\n",
      "[350]\tvalidation_0-logloss:0.40421\tvalidation_1-logloss:0.41539\n",
      "[351]\tvalidation_0-logloss:0.40406\tvalidation_1-logloss:0.41527\n",
      "[352]\tvalidation_0-logloss:0.40400\tvalidation_1-logloss:0.41525\n",
      "[353]\tvalidation_0-logloss:0.40393\tvalidation_1-logloss:0.41522\n",
      "[354]\tvalidation_0-logloss:0.40385\tvalidation_1-logloss:0.41519\n",
      "[355]\tvalidation_0-logloss:0.40376\tvalidation_1-logloss:0.41512\n",
      "[356]\tvalidation_0-logloss:0.40368\tvalidation_1-logloss:0.41510\n",
      "[357]\tvalidation_0-logloss:0.40355\tvalidation_1-logloss:0.41498\n",
      "[358]\tvalidation_0-logloss:0.40349\tvalidation_1-logloss:0.41495\n",
      "[359]\tvalidation_0-logloss:0.40342\tvalidation_1-logloss:0.41489\n",
      "[360]\tvalidation_0-logloss:0.40336\tvalidation_1-logloss:0.41483\n",
      "[361]\tvalidation_0-logloss:0.40327\tvalidation_1-logloss:0.41477\n",
      "[362]\tvalidation_0-logloss:0.40319\tvalidation_1-logloss:0.41472\n",
      "[363]\tvalidation_0-logloss:0.40311\tvalidation_1-logloss:0.41469\n",
      "[364]\tvalidation_0-logloss:0.40304\tvalidation_1-logloss:0.41467\n",
      "[365]\tvalidation_0-logloss:0.40293\tvalidation_1-logloss:0.41458\n",
      "[366]\tvalidation_0-logloss:0.40287\tvalidation_1-logloss:0.41456\n",
      "[367]\tvalidation_0-logloss:0.40281\tvalidation_1-logloss:0.41452\n",
      "[368]\tvalidation_0-logloss:0.40274\tvalidation_1-logloss:0.41446\n",
      "[369]\tvalidation_0-logloss:0.40260\tvalidation_1-logloss:0.41434\n",
      "[370]\tvalidation_0-logloss:0.40251\tvalidation_1-logloss:0.41427\n",
      "[371]\tvalidation_0-logloss:0.40241\tvalidation_1-logloss:0.41418\n",
      "[372]\tvalidation_0-logloss:0.40233\tvalidation_1-logloss:0.41416\n",
      "[373]\tvalidation_0-logloss:0.40220\tvalidation_1-logloss:0.41403\n",
      "[374]\tvalidation_0-logloss:0.40211\tvalidation_1-logloss:0.41395\n",
      "[375]\tvalidation_0-logloss:0.40204\tvalidation_1-logloss:0.41392\n",
      "[376]\tvalidation_0-logloss:0.40197\tvalidation_1-logloss:0.41390\n",
      "[377]\tvalidation_0-logloss:0.40188\tvalidation_1-logloss:0.41386\n",
      "[378]\tvalidation_0-logloss:0.40182\tvalidation_1-logloss:0.41384\n",
      "[379]\tvalidation_0-logloss:0.40174\tvalidation_1-logloss:0.41380\n",
      "[380]\tvalidation_0-logloss:0.40167\tvalidation_1-logloss:0.41377\n",
      "[381]\tvalidation_0-logloss:0.40160\tvalidation_1-logloss:0.41371\n",
      "[382]\tvalidation_0-logloss:0.40152\tvalidation_1-logloss:0.41366\n",
      "[383]\tvalidation_0-logloss:0.40147\tvalidation_1-logloss:0.41363\n",
      "[384]\tvalidation_0-logloss:0.40137\tvalidation_1-logloss:0.41355\n",
      "[385]\tvalidation_0-logloss:0.40123\tvalidation_1-logloss:0.41346\n",
      "[386]\tvalidation_0-logloss:0.40116\tvalidation_1-logloss:0.41345\n",
      "[387]\tvalidation_0-logloss:0.40109\tvalidation_1-logloss:0.41341\n"
     ]
    },
    {
     "name": "stdout",
     "output_type": "stream",
     "text": [
      "[388]\tvalidation_0-logloss:0.40102\tvalidation_1-logloss:0.41338\n",
      "[389]\tvalidation_0-logloss:0.40094\tvalidation_1-logloss:0.41335\n",
      "[390]\tvalidation_0-logloss:0.40088\tvalidation_1-logloss:0.41331\n",
      "[391]\tvalidation_0-logloss:0.40081\tvalidation_1-logloss:0.41327\n",
      "[392]\tvalidation_0-logloss:0.40075\tvalidation_1-logloss:0.41324\n",
      "[393]\tvalidation_0-logloss:0.40068\tvalidation_1-logloss:0.41320\n",
      "[394]\tvalidation_0-logloss:0.40063\tvalidation_1-logloss:0.41316\n",
      "[395]\tvalidation_0-logloss:0.40054\tvalidation_1-logloss:0.41314\n",
      "[396]\tvalidation_0-logloss:0.40043\tvalidation_1-logloss:0.41305\n",
      "[397]\tvalidation_0-logloss:0.40038\tvalidation_1-logloss:0.41303\n",
      "[398]\tvalidation_0-logloss:0.40032\tvalidation_1-logloss:0.41300\n",
      "[399]\tvalidation_0-logloss:0.40024\tvalidation_1-logloss:0.41297\n",
      "Log Loss value for our XGBoost Classifier in Test Data: 0.4002425482649742\n",
      "Log Loss value for our XGBoost Vector Classifier in Test Data: 0.4129721031244117\n",
      "\n",
      "Cell take 1645.1760387420654 seconds\n"
     ]
    }
   ],
   "source": [
    "# start time \n",
    "start = time.time()\n",
    "\n",
    "xgb.set_config(verbosity=0)\n",
    "\n",
    "# Initializing the classifier\n",
    "xgb_clf = xgb.XGBClassifier(objective='binary:logistic',n_estimators=400,eval_metric='logloss',max_depth=4, eta=0.02,early_stopping_rounds=20)\n",
    "\n",
    "# training our classifier \n",
    "xgb_clf.fit(X_train,y_train,eval_set=[(X_train, y_train),(X_test, y_test)])\n",
    "\n",
    "# Chech log loss from Training DataSet\n",
    "y_predict_train = xgb_clf.predict_proba(X_train)\n",
    "log_loss_train = log_loss(y_train, y_predict_train)\n",
    "print(\"Log Loss value for our XGBoost Classifier in Test Data:\",log_loss_train)\n",
    "\n",
    "# Chech log loss from Test DataSet\n",
    "y_predict_test = xgb_clf.predict_proba(X_test)\n",
    "log_loss_test = log_loss(y_test, y_predict_test)\n",
    "print(\"Log Loss value for our XGBoost Vector Classifier in Test Data:\",log_loss_test)\n",
    "\n",
    "#end time\n",
    "end = time.time()\n",
    "\n",
    "print(f'\\nCell take {end-start} seconds')"
   ]
  },
  {
   "cell_type": "code",
   "execution_count": 58,
   "metadata": {
    "scrolled": true
   },
   "outputs": [
    {
     "name": "stdout",
     "output_type": "stream",
     "text": [
      "Accuracy score for Logistic Regression model is 0.782125\n"
     ]
    },
    {
     "data": {
      "image/png": "[encoded data removed]",
      "text/plain": [
       "<Figure size 1440x288 with 6 Axes>"
      ]
     },
     "metadata": {
      "needs_background": "light"
     },
     "output_type": "display_data"
    }
   ],
   "source": [
    "# Predicting the labels not the probabilites\n",
    "y_predict = xgb_clf.predict(X_test)\n",
    "print(f\"Accuracy score for Logistic Regression model is {accuracy_score(y_test,y_predict)}\")\n",
    "plot_confusion_matrix(y_test,y_predict)"
   ]
  },
  {
   "cell_type": "markdown",
   "metadata": {},
   "source": [
    "## Summary"
   ]
  },
  {
   "cell_type": "markdown",
   "metadata": {},
   "source": [
    "We have reached **80% accuracy** and **log-loss=0.40** which is great, but why?\n",
    "* We are working with only **10% of our data to train the models: 40,000/400,000**\n",
    "* We didn't go with **hyberparameter tuning** a lot and do GridSearchCV which will help a lot for improving our model\n",
    "* We Used TfidfVectorizer with **max_features=3000 that we can increase** \n",
    "* We can **do more feature engineering work**"
   ]
  },
  {
   "cell_type": "markdown",
   "metadata": {},
   "source": [
    "## Conclusion"
   ]
  },
  {
   "cell_type": "markdown",
   "metadata": {},
   "source": [
    "This Case Study was amazing because we take a look of **NLP project** which include:\n",
    "- Cleaning Text throught:\n",
    "    * Removing HTML tags if found\n",
    "    * Removing punctuations\n",
    "    * Performing Stemming\n",
    "    * Removing stop words\n",
    "    * Expanding contractions\n",
    "- Creating More Features with Three Stages:\n",
    "    * Basic Feature Extraction\n",
    "    * Advanced Feature Extraction\n",
    "    * Text Featurizing with TFIDF Vectorizer\n",
    "- Building Classification Models with 4 different classifiers:\n",
    "    * Logistic Regression\n",
    "    * Linear SVC (I do it with SGD with loss=hinge to take the benefits of SGD) \n",
    "    * Random Forest Classifier\n",
    "    * XGBoost Classifier\n",
    "- Using Different Evaluation Metrics:\n",
    "    * Log-Loss\n",
    "    * Accuracy\n",
    "    * Confusion matrix\n",
    "    * Plotting confusion matrix, precision and recall\n"
   ]
  },
  {
   "cell_type": "markdown",
   "metadata": {},
   "source": [
    "## Thanks for Reading\n",
    "- You can **clone this project** and get hands on with the data\n",
    "- take a look at the main page of this problem in **kaggle** and **read the discussion**\n",
    "- link: https://www.kaggle.com/c/quora-question-pairs"
   ]
  }
 ],
 "metadata": {
  "kernelspec": {
   "display_name": "Python 3",
   "language": "python",
   "name": "python3"
  },
  "language_info": {
   "codemirror_mode": {
    "name": "ipython",
    "version": 3
   },
   "file_extension": ".py",
   "mimetype": "text/x-python",
   "name": "python",
   "nbconvert_exporter": "python",
   "pygments_lexer": "ipython3",
   "version": "3.8.3"
  }
 },
 "nbformat": 4,
 "nbformat_minor": 5
}
