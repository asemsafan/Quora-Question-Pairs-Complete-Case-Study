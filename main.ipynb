{
 "cells": [
  {
   "cell_type": "markdown",
   "id": "089bd80a",
   "metadata": {},
   "source": [
    "# Quora Question Pairs (Complete Case Study)"
   ]
  },
  {
   "cell_type": "markdown",
   "id": "bc5a65a7",
   "metadata": {},
   "source": [
    "## Introduction \n",
    "**Quora** is a place to gain and share knowledge. It's a platform to ask questions and connect with people who contribute unique insights and quality answers. </br>\n",
    "At the time this competition first presented in Kaggle (5 years ago) the site was getting more than 100 million visitors every single month, now this number increased to 300 million visitors per month, anyone can ask question about the topic he or she want and get answers and Insights from others.\n"
   ]
  },
  {
   "cell_type": "markdown",
   "id": "31e7208e",
   "metadata": {},
   "source": [
    "## The Problem from Business Point of View\n",
    "Because the fact that those huge number of visitors can ask similar questions (which have slightly different words with the same meaning as example), Quora try to identify similar questions (very similar ones which we can say that they are duplicates).<br>\n",
    "After identifying them they can provide answers to newly asked questions instantly depending on its high similarity to a question already answered on Quora.<br>\n",
    "This process can improve a lot the User Experience (UX) in the application web or mobile because of three important ideas:<br>\n",
    "- it will provide answers instantly for the questioner.<br>\n",
    "- it also provides the best ones which may be upvoted by more people in the old question.<br>\n",
    "- it helps the user who want to search about a question to quickly find the right answer instead of being overwhelmed by a lot of questions.\n"
   ]
  },
  {
   "cell_type": "markdown",
   "id": "771b6398",
   "metadata": {},
   "source": [
    "## Real World Business Constraints\n",
    "1.\t**No latency concerns** as it is not required to do this process in milliseconds, it may take few seconds or minutes to get the best answer depending on accurate similarity prediction. \n",
    "2.\t**The cost of mis-classification can be very high**, if someone asks a question and the system recommends answers based on similar question but in fact, they seem similar but they are not so you suggest wrong answers which will affect user experience badly.\n",
    "3.\tYou must **define a threshold** for the probability above which you can say they are duplicate.\n",
    "4.\t**Interpretability is partially important** to know what’s your classification depends on?\n"
   ]
  },
  {
   "cell_type": "markdown",
   "id": "7589233d",
   "metadata": {},
   "source": [
    "## Data \n",
    "-\tCSV file for training data: **train.csv**.\n",
    "-\tSize of the file: 60.4 MB.\n",
    "-   Every record contains 2 questions IDs and the actual text body for every question and finally the probability of being duplicate. \n",
    "-\tMore info about number of rows, features and sample will be explored below."
   ]
  },
  {
   "cell_type": "markdown",
   "id": "97238493",
   "metadata": {},
   "source": [
    "## The Problem from Machine Learning Point of View\n",
    "We can say that it’s a binary classification problem as we need to predict if they are duplicate or not. </br>\n",
    "Simply we need to solve this function f(q1,q2) = {0,1}\n",
    "Evaluation Metrics: \n",
    "-\t**Log-Loss metric** as Quora said in the Kaggle page and its obvious as it’s a probability.\n",
    "-\t**Binary Confusion Matrix** to look for the cost of misclassification as we go on and also the interpretability.\n"
   ]
  },
  {
   "cell_type": "markdown",
   "id": "1e1b7272",
   "metadata": {},
   "source": [
    "## Exploratory Data Analysis \n",
    "Now let’s more about our data.\n"
   ]
  },
  {
   "cell_type": "markdown",
   "id": "3403f247",
   "metadata": {},
   "source": [
    "#### Importing required libraries"
   ]
  },
  {
   "cell_type": "code",
   "execution_count": 1,
   "id": "9519a522",
   "metadata": {},
   "outputs": [],
   "source": [
    "import numpy as np\n",
    "import pandas as pd\n",
    "import matplotlib.pyplot as plt\n",
    "%matplotlib inline \n",
    "import seaborn as sns"
   ]
  },
  {
   "cell_type": "markdown",
   "id": "1c82b7f7",
   "metadata": {},
   "source": [
    "#### Reading data and basic stats"
   ]
  },
  {
   "cell_type": "code",
   "execution_count": 5,
   "id": "11eab745",
   "metadata": {},
   "outputs": [
    {
     "data": {
      "text/plain": [
       "(404290, 6)"
      ]
     },
     "execution_count": 5,
     "metadata": {},
     "output_type": "execute_result"
    }
   ],
   "source": [
    "# importing the data (one csv file)\n",
    "df = pd.read_csv (\"train.csv\")\n",
    "# printing the shape to knwo how many columns (features) and rows (records)\n",
    "df.shape"
   ]
  },
  {
   "cell_type": "code",
   "execution_count": 6,
   "id": "56bdf1ff",
   "metadata": {},
   "outputs": [
    {
     "data": {
      "text/html": [
       "<div>\n",
       "<style scoped>\n",
       "    .dataframe tbody tr th:only-of-type {\n",
       "        vertical-align: middle;\n",
       "    }\n",
       "\n",
       "    .dataframe tbody tr th {\n",
       "        vertical-align: top;\n",
       "    }\n",
       "\n",
       "    .dataframe thead th {\n",
       "        text-align: right;\n",
       "    }\n",
       "</style>\n",
       "<table border=\"1\" class=\"dataframe\">\n",
       "  <thead>\n",
       "    <tr style=\"text-align: right;\">\n",
       "      <th></th>\n",
       "      <th>id</th>\n",
       "      <th>qid1</th>\n",
       "      <th>qid2</th>\n",
       "      <th>question1</th>\n",
       "      <th>question2</th>\n",
       "      <th>is_duplicate</th>\n",
       "    </tr>\n",
       "  </thead>\n",
       "  <tbody>\n",
       "    <tr>\n",
       "      <th>0</th>\n",
       "      <td>0</td>\n",
       "      <td>1</td>\n",
       "      <td>2</td>\n",
       "      <td>What is the step by step guide to invest in sh...</td>\n",
       "      <td>What is the step by step guide to invest in sh...</td>\n",
       "      <td>0</td>\n",
       "    </tr>\n",
       "    <tr>\n",
       "      <th>1</th>\n",
       "      <td>1</td>\n",
       "      <td>3</td>\n",
       "      <td>4</td>\n",
       "      <td>What is the story of Kohinoor (Koh-i-Noor) Dia...</td>\n",
       "      <td>What would happen if the Indian government sto...</td>\n",
       "      <td>0</td>\n",
       "    </tr>\n",
       "    <tr>\n",
       "      <th>2</th>\n",
       "      <td>2</td>\n",
       "      <td>5</td>\n",
       "      <td>6</td>\n",
       "      <td>How can I increase the speed of my internet co...</td>\n",
       "      <td>How can Internet speed be increased by hacking...</td>\n",
       "      <td>0</td>\n",
       "    </tr>\n",
       "    <tr>\n",
       "      <th>3</th>\n",
       "      <td>3</td>\n",
       "      <td>7</td>\n",
       "      <td>8</td>\n",
       "      <td>Why am I mentally very lonely? How can I solve...</td>\n",
       "      <td>Find the remainder when [math]23^{24}[/math] i...</td>\n",
       "      <td>0</td>\n",
       "    </tr>\n",
       "    <tr>\n",
       "      <th>4</th>\n",
       "      <td>4</td>\n",
       "      <td>9</td>\n",
       "      <td>10</td>\n",
       "      <td>Which one dissolve in water quikly sugar, salt...</td>\n",
       "      <td>Which fish would survive in salt water?</td>\n",
       "      <td>0</td>\n",
       "    </tr>\n",
       "  </tbody>\n",
       "</table>\n",
       "</div>"
      ],
      "text/plain": [
       "   id  qid1  qid2                                          question1  \\\n",
       "0   0     1     2  What is the step by step guide to invest in sh...   \n",
       "1   1     3     4  What is the story of Kohinoor (Koh-i-Noor) Dia...   \n",
       "2   2     5     6  How can I increase the speed of my internet co...   \n",
       "3   3     7     8  Why am I mentally very lonely? How can I solve...   \n",
       "4   4     9    10  Which one dissolve in water quikly sugar, salt...   \n",
       "\n",
       "                                           question2  is_duplicate  \n",
       "0  What is the step by step guide to invest in sh...             0  \n",
       "1  What would happen if the Indian government sto...             0  \n",
       "2  How can Internet speed be increased by hacking...             0  \n",
       "3  Find the remainder when [math]23^{24}[/math] i...             0  \n",
       "4            Which fish would survive in salt water?             0  "
      ]
     },
     "execution_count": 6,
     "metadata": {},
     "output_type": "execute_result"
    }
   ],
   "source": [
    "# take a look at the head to see data sample \n",
    "df.head ()"
   ]
  },
  {
   "cell_type": "code",
   "execution_count": 10,
   "id": "2694e98d",
   "metadata": {},
   "outputs": [
    {
     "name": "stdout",
     "output_type": "stream",
     "text": [
      "<class 'pandas.core.frame.DataFrame'>\n",
      "RangeIndex: 404290 entries, 0 to 404289\n",
      "Data columns (total 6 columns):\n",
      " #   Column        Non-Null Count   Dtype \n",
      "---  ------        --------------   ----- \n",
      " 0   id            404290 non-null  int64 \n",
      " 1   qid1          404290 non-null  int64 \n",
      " 2   qid2          404290 non-null  int64 \n",
      " 3   question1     404289 non-null  object\n",
      " 4   question2     404288 non-null  object\n",
      " 5   is_duplicate  404290 non-null  int64 \n",
      "dtypes: int64(4), object(2)\n",
      "memory usage: 18.5+ MB\n"
     ]
    }
   ],
   "source": [
    "# more info about the fields to make a proper description of the data\n",
    "# using info() function not describe() because it don't have numerical fields\n",
    "# and also to find the number of non-null fields\n",
    "df.info ()"
   ]
  },
  {
   "cell_type": "markdown",
   "id": "b0963c92",
   "metadata": {},
   "source": [
    "#### Our data consists of 404290 rows and 6 columns. </br>\n",
    "##### The 6 basic columns: \n",
    "- id: unique id for the record or the row.\n",
    "- qid1 and qid2: unique identifier for each question we have in the record.\n",
    "- question1 and question2: the actual text content of the two questions.\n",
    "- Is_duplicate: this will be the label we are trying to learn from and predict in the final model which will say if the two question is very similar to be duplicates or not. \n",
    "</br></br>\n",
    "##### We have only 3 null fields in the data which exists as 3 missing questions.\n",
    "*\tThis percentage which is 3/404290 is very awesome we can remove or do anything with them. \n"
   ]
  },
  {
   "cell_type": "code",
   "execution_count": null,
   "id": "72c8d265",
   "metadata": {},
   "outputs": [],
   "source": []
  }
 ],
 "metadata": {
  "kernelspec": {
   "display_name": "Python 3 (ipykernel)",
   "language": "python",
   "name": "python3"
  },
  "language_info": {
   "codemirror_mode": {
    "name": "ipython",
    "version": 3
   },
   "file_extension": ".py",
   "mimetype": "text/x-python",
   "name": "python",
   "nbconvert_exporter": "python",
   "pygments_lexer": "ipython3",
   "version": "3.9.7"
  }
 },
 "nbformat": 4,
 "nbformat_minor": 5
}
